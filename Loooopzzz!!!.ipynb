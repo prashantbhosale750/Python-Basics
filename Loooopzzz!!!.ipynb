{
 "cells": [
  {
   "cell_type": "markdown",
   "id": "9825cb6a",
   "metadata": {},
   "source": [
    "# Loooooooooooopzzzz!!!!!!! : \n",
    "**some times programmer wants to execute a group of statement a certain number of times**\n",
    "\n",
    "* Basic functionality is same, but syntax & time required is differ \n",
    "* we can run single statement or set of statement **repeatedly** using loops.\n",
    "* Types of loops in python :\n",
    "    1. For loop : for loop is used for **sequential traversal.** Ex. traversing list, string or array. Repeatedly excute a block of code while iterating through a list, dict etc. \n",
    "    2. while loop\n",
    "    3. nested loops"
   ]
  },
  {
   "cell_type": "markdown",
   "id": "1c984bf6",
   "metadata": {},
   "source": [
    "# For Loop :\n",
    "* a for loop executes the code block until the sequence element is reached. \n",
    "**: for loop is used for **sequential traversal.** Ex. traversing list, string or array. Repeatedly excute a block of code while iterating through a list, dict or other iterable objects in python etc.\n",
    "\n",
    "**iterable objects in python : String, list, dict, tuple, set**\n",
    "\n",
    " "
   ]
  },
  {
   "cell_type": "code",
   "execution_count": 6,
   "id": "af9e02b4",
   "metadata": {},
   "outputs": [
    {
     "name": "stdout",
     "output_type": "stream",
     "text": [
      "p\n",
      "r\n",
      "a\n",
      "s\n",
      "h\n",
      "a\n",
      "n\n",
      "t\n",
      "this is t my bro\n"
     ]
    }
   ],
   "source": [
    "# 1. find the perticular charcter from string\n",
    "name = \"prashant\"\n",
    "\n",
    "for i in name:   # i hold value from name and give it to loop statement\n",
    "    print(i)\n",
    "    if (i=='t'):  #when condition will true print will execute\n",
    "        print(\"this is t my bro\")\n",
    "        \n"
   ]
  },
  {
   "cell_type": "code",
   "execution_count": 11,
   "id": "4c0c0b04",
   "metadata": {},
   "outputs": [
    {
     "name": "stdout",
     "output_type": "stream",
     "text": [
      "[4, 16, 25, 49, 81]\n"
     ]
    }
   ],
   "source": [
    "# 2. Creating a sequence which is a tuple of numbers & print square of the number\n",
    "number=[2,4,5,7,9]\n",
    "\n",
    "square=0 #to hold the square of numbers\n",
    "\n",
    "output_sq=[] #empty tuple to store square of numbers\n",
    "\n",
    "for i in number:  #ek ek number i madhe pass karne\n",
    "    square=i**2\n",
    "    \n",
    "    output_sq.append(square) #ek ek square output_sq[] madhe append karne\n",
    "print(output_sq)  \n"
   ]
  },
  {
   "cell_type": "code",
   "execution_count": 18,
   "id": "fa7458a0",
   "metadata": {},
   "outputs": [
    {
     "name": "stdout",
     "output_type": "stream",
     "text": [
      "P\n",
      "y\n",
      "t\n",
      "h\n",
      "yes i got oooyaahhh\n",
      "n\n",
      " \n",
      "L\n",
      "yes i got oooyaahhh\n",
      "yes i got oooyaahhh\n",
      "p\n"
     ]
    }
   ],
   "source": [
    "# for loop with if-else\n",
    "#jar if madhe error ala/ loop madhun exit kele tarach else statement run nahi hot\n",
    "\n",
    "string=\"Python Loop\"\n",
    "\n",
    "for s in string:\n",
    "    if(s==\"o\"):\n",
    "        print(\"yes i got oooyaahhh\")\n",
    "        #break\n",
    "    else:\n",
    "        print(s)\n",
    "        \n"
   ]
  },
  {
   "cell_type": "code",
   "execution_count": 27,
   "id": "d14ce5f7",
   "metadata": {},
   "outputs": [
    {
     "name": "stdout",
     "output_type": "stream",
     "text": [
      "1\n",
      "3\n",
      "5\n",
      "done\n"
     ]
    }
   ],
   "source": [
    "# for loop with else \n",
    "\n",
    "tuple_1=(1,2,3,4,5,6)\n",
    "\n",
    "for i in tuple_1:\n",
    "    if (i%2!=0):\n",
    "        print(i)\n",
    "else:\n",
    "    print(\"done\")\n",
    "              "
   ]
  },
  {
   "cell_type": "markdown",
   "id": "2f9595c6",
   "metadata": {},
   "source": [
    "# The range() Function\n",
    "\n",
    "1. we may produce a series of numbers.\n",
    "2. range(10) will produce values between 0 and 9 (10 numbers).\n",
    "3. We can give specific start, stop, and step size values in the manner like range(start, stop, stepsize)\n",
    "4. if step size is not specified then it is defaults 1.\n",
    "5. but it is not an iterator.\n",
    "\n",
    "1. len() function give : range(x, y)\n",
    "2. \n"
   ]
  },
  {
   "cell_type": "code",
   "execution_count": 37,
   "id": "c94fb23c",
   "metadata": {},
   "outputs": [
    {
     "name": "stdout",
     "output_type": "stream",
     "text": [
      "range(0, 10)\n",
      "[0, 1, 2, 3, 4]\n",
      "[50, 51, 52, 53, 54, 55, 56, 57, 58, 59]\n",
      "[90, 93, 96, 99]\n",
      "range(0, 8)\n"
     ]
    }
   ],
   "source": [
    "print(range(10))\n",
    "\n",
    "print(list(range(5)))\n",
    "\n",
    "print(list(range(50,60)))\n",
    "\n",
    "print(list(range(90,100,3)))\n",
    "\n",
    "string=\"prashant\"\n",
    "print(range(len(string)))\n",
    "\n",
    "\n"
   ]
  },
  {
   "cell_type": "markdown",
   "id": "f9a126ad",
   "metadata": {},
   "source": [
    "**we can apply range() in for loop to iterate through a sequence of items, we can use len() function for indexing**\n"
   ]
  },
  {
   "cell_type": "code",
   "execution_count": 57,
   "id": "f9525167",
   "metadata": {},
   "outputs": [
    {
     "name": "stdout",
     "output_type": "stream",
     "text": [
      "0\n",
      "1\n",
      "2\n"
     ]
    },
    {
     "ename": "TypeError",
     "evalue": "'int' object is not iterable",
     "output_type": "error",
     "traceback": [
      "\u001b[1;31m---------------------------------------------------------------------------\u001b[0m",
      "\u001b[1;31mTypeError\u001b[0m                                 Traceback (most recent call last)",
      "\u001b[1;32m~\\AppData\\Local\\Temp\\ipykernel_5440\\1254150732.py\u001b[0m in \u001b[0;36m<module>\u001b[1;34m\u001b[0m\n\u001b[0;32m      6\u001b[0m \u001b[1;31m#*********************************\u001b[0m\u001b[1;33m\u001b[0m\u001b[1;33m\u001b[0m\u001b[0m\n\u001b[0;32m      7\u001b[0m \u001b[1;33m\u001b[0m\u001b[0m\n\u001b[1;32m----> 8\u001b[1;33m \u001b[1;32mfor\u001b[0m \u001b[0mi\u001b[0m \u001b[1;32min\u001b[0m \u001b[1;33m(\u001b[0m\u001b[0mlen\u001b[0m\u001b[1;33m(\u001b[0m\u001b[0mtuple1\u001b[0m\u001b[1;33m)\u001b[0m\u001b[1;33m)\u001b[0m \u001b[1;33m:\u001b[0m\u001b[1;33m\u001b[0m\u001b[1;33m\u001b[0m\u001b[0m\n\u001b[0m\u001b[0;32m      9\u001b[0m     \u001b[0mprint\u001b[0m\u001b[1;33m(\u001b[0m\u001b[0mi\u001b[0m\u001b[1;33m)\u001b[0m\u001b[1;33m\u001b[0m\u001b[1;33m\u001b[0m\u001b[0m\n\u001b[0;32m     10\u001b[0m \u001b[1;31m#TypeError: 'int' object is not iterable\u001b[0m\u001b[1;33m\u001b[0m\u001b[1;33m\u001b[0m\u001b[0m\n",
      "\u001b[1;31mTypeError\u001b[0m: 'int' object is not iterable"
     ]
    }
   ],
   "source": [
    "tuple1 = (\"prashant\", \"Dilip\", \"bhosale\")  #len(tuple1)=(0,1,2)\n",
    "\n",
    "for i in range(len(tuple1)) :\n",
    "    print(i)\n",
    "    \n",
    "#*********************************   \n",
    "    \n",
    "for i in (len(tuple1)) :\n",
    "    print(i)    \n",
    "#TypeError: 'int' object is not iterable\n",
    "\n",
    "#**********************************\n"
   ]
  },
  {
   "cell_type": "code",
   "execution_count": 55,
   "id": "3dea9c23",
   "metadata": {},
   "outputs": [
    {
     "ename": "TypeError",
     "evalue": "'tuple' object is not callable",
     "output_type": "error",
     "traceback": [
      "\u001b[1;31m---------------------------------------------------------------------------\u001b[0m",
      "\u001b[1;31mTypeError\u001b[0m                                 Traceback (most recent call last)",
      "\u001b[1;32m~\\AppData\\Local\\Temp\\ipykernel_5440\\1294245336.py\u001b[0m in \u001b[0;36m<module>\u001b[1;34m\u001b[0m\n\u001b[0;32m      1\u001b[0m \u001b[0mtuple2\u001b[0m \u001b[1;33m=\u001b[0m \u001b[1;33m(\u001b[0m\u001b[1;34m\"prashant\"\u001b[0m\u001b[1;33m,\u001b[0m \u001b[1;34m\"Dilip\"\u001b[0m\u001b[1;33m,\u001b[0m \u001b[1;34m\"bhosale\"\u001b[0m\u001b[1;33m)\u001b[0m\u001b[1;33m\u001b[0m\u001b[1;33m\u001b[0m\u001b[0m\n\u001b[0;32m      2\u001b[0m \u001b[1;32mfor\u001b[0m \u001b[0mi\u001b[0m \u001b[1;32min\u001b[0m \u001b[0mrange\u001b[0m\u001b[1;33m(\u001b[0m\u001b[0mlen\u001b[0m\u001b[1;33m(\u001b[0m\u001b[0mtuple2\u001b[0m\u001b[1;33m)\u001b[0m\u001b[1;33m)\u001b[0m\u001b[1;33m:\u001b[0m\u001b[1;33m\u001b[0m\u001b[1;33m\u001b[0m\u001b[0m\n\u001b[1;32m----> 3\u001b[1;33m     \u001b[0mprint\u001b[0m\u001b[1;33m(\u001b[0m\u001b[0mtuple2\u001b[0m\u001b[1;33m(\u001b[0m\u001b[0mi\u001b[0m\u001b[1;33m)\u001b[0m\u001b[1;33m.\u001b[0m\u001b[0mupper\u001b[0m\u001b[1;33m(\u001b[0m\u001b[1;33m)\u001b[0m\u001b[1;33m)\u001b[0m   \u001b[1;31m#TypeError: 'tuple' object is not callable\u001b[0m\u001b[1;33m\u001b[0m\u001b[1;33m\u001b[0m\u001b[0m\n\u001b[0m",
      "\u001b[1;31mTypeError\u001b[0m: 'tuple' object is not callable"
     ]
    }
   ],
   "source": [
    "tuple2 = (\"prashant\", \"Dilip\", \"bhosale\")\n",
    "for i in range(len(tuple2)):\n",
    "    print(tuple2(i).upper())   #TypeError: 'tuple' object is not callable "
   ]
  },
  {
   "cell_type": "code",
   "execution_count": 67,
   "id": "19c28e47",
   "metadata": {},
   "outputs": [
    {
     "name": "stdout",
     "output_type": "stream",
     "text": [
      "python\n",
      "loops\n",
      "sequence\n",
      "condition\n",
      "range\n"
     ]
    }
   ],
   "source": [
    "tuple2 = (\"Python\", \"Loops\", \"Sequence\", \"Condition\", \"Range\")  \n",
    "  \n",
    "# iterating over tuple_ using range() function  \n",
    "for i in range(len(tuple2)):  \n",
    "    #print(tuple2[i].upper())\n",
    "    print(tuple2[i].lower()) "
   ]
  },
  {
   "cell_type": "markdown",
   "id": "3b095c43",
   "metadata": {},
   "source": [
    "# While Loop\n",
    "\n",
    "1. it will iterate till specified condition met nahi hot\n",
    "2. used to execute block of statement repeatedly   until given condition is satisfied\n",
    "3. if condition false : line after loop immediately execute hote\n",
    "4. if we want to run block of code in infinite number of time then use while"
   ]
  },
  {
   "cell_type": "code",
   "execution_count": 71,
   "id": "c8b2154b",
   "metadata": {},
   "outputs": [
    {
     "name": "stdout",
     "output_type": "stream",
     "text": [
      "1\n",
      "this is while\n",
      "2\n",
      "this is while\n"
     ]
    }
   ],
   "source": [
    "counter = 0\n",
    "\n",
    "while counter<3:   #0<3, 1<3, 2<3, 3<3 loop break;\n",
    "    counter=counter+1\n",
    "    print(counter)\n",
    "    print(\"this is while\")\n",
    "   "
   ]
  },
  {
   "cell_type": "code",
   "execution_count": 74,
   "id": "8cef1124",
   "metadata": {},
   "outputs": [
    {
     "name": "stdout",
     "output_type": "stream",
     "text": [
      "1\n",
      "this is while\n",
      "2\n",
      "this is while\n"
     ]
    }
   ],
   "source": [
    "counter = 0\n",
    "\n",
    "while counter<3:   #0<3, 1<3, 2<3, 3<3 loop break;\n",
    "    counter=counter+1\n",
    "    print(counter)\n",
    "    print(\"this is while\")\n",
    "    if(counter==2):\n",
    "        break"
   ]
  },
  {
   "cell_type": "code",
   "execution_count": 2,
   "id": "f8d6c5fb",
   "metadata": {},
   "outputs": [
    {
     "name": "stdout",
     "output_type": "stream",
     "text": [
      "1\n",
      "2\n",
      "3\n",
      "4\n",
      "5\n",
      "when loop completed run else\n"
     ]
    }
   ],
   "source": [
    "#while with else\n",
    "\n",
    "counter = 0\n",
    "\n",
    "while counter<5:\n",
    "    counter=counter+1\n",
    "    print(counter)\n",
    "else:\n",
    "    print(\"when loop completed run else\")"
   ]
  },
  {
   "cell_type": "code",
   "execution_count": 10,
   "id": "3a685e4c",
   "metadata": {},
   "outputs": [],
   "source": [
    "#single statement while loop\n",
    "\n",
    "counter=0\n",
    "while counter==0: print(\"hello\") \n",
    "\n",
    "#loop goes into infinity mode\n",
    "#condition is always true above condition\n",
    "    \n"
   ]
  },
  {
   "cell_type": "markdown",
   "id": "1389f7dd",
   "metadata": {},
   "source": [
    "# Loop Control Statements\n",
    "\n",
    "**1. Continue** : it return the control to the begining of loop"
   ]
  },
  {
   "cell_type": "code",
   "execution_count": 22,
   "id": "2c7f5c11",
   "metadata": {},
   "outputs": [
    {
     "name": "stdout",
     "output_type": "stream",
     "text": [
      "P\n",
      "r\n",
      "a\n",
      "s\n",
      "a\n"
     ]
    }
   ],
   "source": [
    "for letter in \"Prashant\":\n",
    "    if letter==\"h\"  or  letter==\"n\"  or  letter==\"t\" :\n",
    "        continue\n",
    "    print(letter)\n",
    "\n",
    "#or : jevha \"h\" yeyil tevha control begining la jael(letter print nahi honar)\n",
    "#p check zala return to begining, r check then "
   ]
  },
  {
   "cell_type": "markdown",
   "id": "69c1b1d8",
   "metadata": {},
   "source": [
    "**2. break: It stops the execution of the loop when the break statement is reached.**"
   ]
  },
  {
   "cell_type": "code",
   "execution_count": 23,
   "id": "bf76ea78",
   "metadata": {},
   "outputs": [
    {
     "name": "stdout",
     "output_type": "stream",
     "text": [
      "Current Letter:  P\n",
      "Current Letter:  y\n",
      "Current Letter:  t\n",
      "Current Letter:  h\n",
      "Current Letter:  o\n",
      "Current Letter:  n\n",
      "Current Letter:   \n"
     ]
    }
   ],
   "source": [
    "for string in \"Python Loops\":  \n",
    "    if string == 'L':  \n",
    "         break  \n",
    "    print('Current Letter: ', string)  "
   ]
  },
  {
   "cell_type": "markdown",
   "id": "c98b2f93",
   "metadata": {},
   "source": [
    "**3. pass : used to create empty loops. Pass statement is also employed for classes, functions, and empty control statements.**"
   ]
  },
  {
   "cell_type": "code",
   "execution_count": 26,
   "id": "547740ff",
   "metadata": {},
   "outputs": [
    {
     "name": "stdout",
     "output_type": "stream",
     "text": [
      "Last Letter: n\n"
     ]
    }
   ],
   "source": [
    "for string in \"Python\":  \n",
    "    pass  \n",
    "print( 'Last Letter:', string)   "
   ]
  }
 ],
 "metadata": {
  "kernelspec": {
   "display_name": "Python 3 (ipykernel)",
   "language": "python",
   "name": "python3"
  },
  "language_info": {
   "codemirror_mode": {
    "name": "ipython",
    "version": 3
   },
   "file_extension": ".py",
   "mimetype": "text/x-python",
   "name": "python",
   "nbconvert_exporter": "python",
   "pygments_lexer": "ipython3",
   "version": "3.9.13"
  }
 },
 "nbformat": 4,
 "nbformat_minor": 5
}
