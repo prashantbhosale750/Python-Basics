{
 "cells": [
  {
   "cell_type": "markdown",
   "id": "73e9d40a",
   "metadata": {},
   "source": [
    "# Topic : Keywords"
   ]
  },
  {
   "cell_type": "markdown",
   "id": "a3dd19d3",
   "metadata": {},
   "source": [
    "# True & False\n",
    "**True and False are those keywords that can be allocated to variables or parameters and are compared directly.\n",
    "*value for True = 1\n",
    "*value for False= 0\n"
   ]
  },
  {
   "cell_type": "code",
   "execution_count": 2,
   "id": "6d74b4f6",
   "metadata": {},
   "outputs": [
    {
     "name": "stdout",
     "output_type": "stream",
     "text": [
      "True\n",
      "3\n"
     ]
    }
   ],
   "source": [
    "1==1  #true\n",
    "print(True or False)#True\n",
    "True and False  #False\n",
    "10 <= 1\n",
    "#true or false #true is not defined\n",
    "True == 1\n",
    "False == 0 \n",
    "print(True+True+True)"
   ]
  },
  {
   "cell_type": "code",
   "execution_count": 17,
   "id": "0126a919",
   "metadata": {},
   "outputs": [
    {
     "name": "stdout",
     "output_type": "stream",
     "text": [
      "False\n",
      "True\n",
      "3\n",
      "True\n"
     ]
    },
    {
     "data": {
      "text/plain": [
       "False"
      ]
     },
     "execution_count": 17,
     "metadata": {},
     "output_type": "execute_result"
    }
   ],
   "source": [
    "print( True == 3 )  \n",
    "print( False == 0 )  \n",
    "print( True + True + True)  \n",
    "print(True==True)\n",
    "True==False"
   ]
  },
  {
   "cell_type": "markdown",
   "id": "55160df3",
   "metadata": {},
   "source": [
    "# None\n",
    "None is a Python keyword that means \"nothing.\" \n",
    "If a function does not have a return clause, it will give None as the default output"
   ]
  },
  {
   "cell_type": "code",
   "execution_count": 4,
   "id": "4edf632c",
   "metadata": {},
   "outputs": [
    {
     "name": "stdout",
     "output_type": "stream",
     "text": [
      "True\n",
      "False\n",
      "False\n"
     ]
    }
   ],
   "source": [
    "a=None\n",
    "b=None\n",
    "print(a==b)\n",
    "\n",
    "print(None==0) #nothing campared with 0 will give result :False\n",
    "print(None==1) #nothing campared with 1 will give result :True"
   ]
  },
  {
   "cell_type": "code",
   "execution_count": 5,
   "id": "e82aac29",
   "metadata": {},
   "outputs": [
    {
     "name": "stdout",
     "output_type": "stream",
     "text": [
      "None\n"
     ]
    }
   ],
   "source": [
    "#below code return nothing so it gives output: None\n",
    "\n",
    "def no_return_function():  \n",
    "    num1 = 10  \n",
    "    num2 = 20  \n",
    "    addition = num1 + num2  \n",
    "  \n",
    "number = no_return_function()  \n",
    "print( number )  "
   ]
  },
  {
   "cell_type": "code",
   "execution_count": null,
   "id": "5ac50c84",
   "metadata": {},
   "outputs": [],
   "source": [
    "#below code return output\n",
    "\n",
    "def no_return_function():  \n",
    "    num1 = 10  \n",
    "    num2 = 20  \n",
    "    addition = num1 + num2 \n",
    "    return addition  #using return keyword we can return output of function\n",
    "  \n",
    "number = no_return_function()  \n",
    "print( number )  "
   ]
  },
  {
   "cell_type": "markdown",
   "id": "646eeb17",
   "metadata": {},
   "source": [
    "# Operator Keywords: and, or, not, in, is\n",
    "**This operator keyword to perform mathematical operations.\n",
    "*in=contains\n",
    "*is=identity\n",
    "*and= rules are simple like multiplication: 1*0=0, 1*1=1 etc similar True false case\n",
    "*or= or is like + (addition)\n",
    "\n",
    "*in=given condition or element contains in set of elements or not \n",
    "\n",
    "**is=It also determines whether two arguments relate to the unique object.\n",
    "When the objects are the same, it gives True; otherwise, it gives False.\n",
    "\n"
   ]
  },
  {
   "cell_type": "code",
   "execution_count": 9,
   "id": "b49bdab2",
   "metadata": {},
   "outputs": [
    {
     "name": "stdout",
     "output_type": "stream",
     "text": [
      "False\n",
      "True\n",
      "False\n"
     ]
    }
   ],
   "source": [
    "elements=\"Prashant\"\n",
    "print(\"p\" in elements) # p is capital which is not contains in elements\n",
    "print(\"P\" in elements)\n",
    "print(\"Z\" in elements) # Z is not there"
   ]
  },
  {
   "cell_type": "code",
   "execution_count": 8,
   "id": "b9617f5d",
   "metadata": {},
   "outputs": [
    {
     "name": "stdout",
     "output_type": "stream",
     "text": [
      "False\n",
      "True\n",
      "False\n"
     ]
    }
   ],
   "source": [
    "print(True and False) #1*0=0\n",
    "print(True or False)  #1+0=1\n",
    "print(not True)       #Not 1=0"
   ]
  },
  {
   "cell_type": "code",
   "execution_count": 16,
   "id": "f8249ba9",
   "metadata": {},
   "outputs": [
    {
     "name": "stdout",
     "output_type": "stream",
     "text": [
      "True\n",
      "False\n",
      "True\n",
      "True\n"
     ]
    }
   ],
   "source": [
    "print(True is True)\n",
    "print(True is False) #objects are not same so return False\n",
    "print(False is False)\n",
    "#print((5+5) is (5*2)) #give warning: bcoz we can use \"==\" instead of is\n",
    "print((5+5) == (5*2))\n"
   ]
  },
  {
   "cell_type": "code",
   "execution_count": 14,
   "id": "ddbed924",
   "metadata": {},
   "outputs": [
    {
     "name": "stdout",
     "output_type": "stream",
     "text": [
      "True\n",
      "False\n",
      "True\n",
      "False\n"
     ]
    }
   ],
   "source": [
    "#is and == with list and dict\n",
    "\n",
    "print([] == [])\n",
    "print([] is []) #output: False:--they aren't identical entities because they are stored independently in memory. \n",
    "#This is because both the list and the dictionary are changeable.\n",
    "\n",
    "print({} == {})\n",
    "print({} is {}) #output: False:--they aren't identical entities because they are stored independently in memory. \n",
    "#This is because both the list and the dictionary are changeable.\n",
    "#two equal strings or tuples are also identical. They're both referring to the unique memory region."
   ]
  },
  {
   "cell_type": "markdown",
   "id": "a8e32cbd",
   "metadata": {},
   "source": [
    "# nonlocal :\n",
    "**when it is declared inside function(nested) it means, that variable is not only implies outside but also the inner function\n",
    "*variable within a function that is inside a function just not local to it, implying(pratit karto) that it is located in the outer function.\n",
    "*when you not to declared : outer function var & inner fun var are diff."
   ]
  },
  {
   "cell_type": "code",
   "execution_count": 27,
   "id": "a8454763",
   "metadata": {},
   "outputs": [
    {
     "name": "stdout",
     "output_type": "stream",
     "text": [
      "inner function: 15\n",
      "outer funtion: 15\n"
     ]
    }
   ],
   "source": [
    "#with nonlocal\n",
    "def outer_fun():\n",
    "    var = 10\n",
    "    \n",
    "    def inner_fun():\n",
    "        nonlocal var #declared nonloacl var\n",
    "        var = 15      #this var not for inner_fun but also apply for outer_fun bcoz it is not local\n",
    "        print(\"inner function:\",var)\n",
    "    inner_fun()\n",
    "    \n",
    "    print(\"outer funtion:\",var)\n",
    "outer_fun()\n",
    "        \n",
    "    "
   ]
  },
  {
   "cell_type": "code",
   "execution_count": 1,
   "id": "87adf557",
   "metadata": {},
   "outputs": [
    {
     "name": "stdout",
     "output_type": "stream",
     "text": [
      "inner function: 15\n",
      "outer funtion: 10\n"
     ]
    }
   ],
   "source": [
    "#without nonlocal\n",
    "def outer_fun():\n",
    "    var = 10\n",
    "    \n",
    "    def inner_fun():\n",
    "        #nonlocal var #declared nonloacl var\n",
    "        var = 15      #this var is local for inside means for only inner function\n",
    "        print(\"inner function:\",var)\n",
    "    inner_fun()\n",
    "    \n",
    "    print(\"outer funtion:\",var)\n",
    "outer_fun()"
   ]
  },
  {
   "cell_type": "markdown",
   "id": "0f076c4a",
   "metadata": {},
   "source": [
    "\n",
    "# del\n",
    "**IN python, every entity is an object\n",
    "*del used to remove reference to an object\n",
    "*to remove variable reference also\n",
    "*once error occured in python further code can not be run in that perticular cell"
   ]
  },
  {
   "cell_type": "code",
   "execution_count": 10,
   "id": "7096ce89",
   "metadata": {},
   "outputs": [
    {
     "name": "stdout",
     "output_type": "stream",
     "text": [
      "10\n"
     ]
    },
    {
     "ename": "NameError",
     "evalue": "name 'T2' is not defined",
     "output_type": "error",
     "traceback": [
      "\u001b[1;31m---------------------------------------------------------------------------\u001b[0m",
      "\u001b[1;31mNameError\u001b[0m                                 Traceback (most recent call last)",
      "\u001b[1;32m~\\AppData\\Local\\Temp\\ipykernel_18108\\3409794866.py\u001b[0m in \u001b[0;36m<module>\u001b[1;34m\u001b[0m\n\u001b[0;32m      2\u001b[0m \u001b[1;32mdel\u001b[0m \u001b[0mT2\u001b[0m\u001b[1;33m\u001b[0m\u001b[1;33m\u001b[0m\u001b[0m\n\u001b[0;32m      3\u001b[0m \u001b[0mprint\u001b[0m\u001b[1;33m(\u001b[0m\u001b[0mT1\u001b[0m\u001b[1;33m)\u001b[0m\u001b[1;33m\u001b[0m\u001b[1;33m\u001b[0m\u001b[0m\n\u001b[1;32m----> 4\u001b[1;33m \u001b[0mprint\u001b[0m\u001b[1;33m(\u001b[0m\u001b[0mT2\u001b[0m\u001b[1;33m)\u001b[0m\u001b[1;33m\u001b[0m\u001b[1;33m\u001b[0m\u001b[0m\n\u001b[0m\u001b[0;32m      5\u001b[0m \u001b[1;33m\u001b[0m\u001b[0m\n\u001b[0;32m      6\u001b[0m \u001b[1;33m\u001b[0m\u001b[0m\n",
      "\u001b[1;31mNameError\u001b[0m: name 'T2' is not defined"
     ]
    }
   ],
   "source": [
    "T1 = T2 = 10\n",
    "del T2\n",
    "print(T1)\n",
    "print(T2)\n",
    "\n",
    "\n"
   ]
  },
  {
   "cell_type": "code",
   "execution_count": 9,
   "id": "44937c97",
   "metadata": {},
   "outputs": [
    {
     "ename": "NameError",
     "evalue": "name 'T3' is not defined",
     "output_type": "error",
     "traceback": [
      "\u001b[1;31m---------------------------------------------------------------------------\u001b[0m",
      "\u001b[1;31mNameError\u001b[0m                                 Traceback (most recent call last)",
      "\u001b[1;32m~\\AppData\\Local\\Temp\\ipykernel_18108\\247262752.py\u001b[0m in \u001b[0;36m<module>\u001b[1;34m\u001b[0m\n\u001b[0;32m      2\u001b[0m \u001b[0mT3\u001b[0m \u001b[1;33m=\u001b[0m \u001b[1;36m30\u001b[0m\u001b[1;33m\u001b[0m\u001b[1;33m\u001b[0m\u001b[0m\n\u001b[0;32m      3\u001b[0m \u001b[1;32mdel\u001b[0m \u001b[0mT3\u001b[0m\u001b[1;33m\u001b[0m\u001b[1;33m\u001b[0m\u001b[0m\n\u001b[1;32m----> 4\u001b[1;33m \u001b[0mprint\u001b[0m\u001b[1;33m(\u001b[0m\u001b[0mT3\u001b[0m\u001b[1;33m)\u001b[0m\u001b[1;33m\u001b[0m\u001b[1;33m\u001b[0m\u001b[0m\n\u001b[0m\u001b[0;32m      5\u001b[0m \u001b[0mprint\u001b[0m\u001b[1;33m(\u001b[0m\u001b[0mT1\u001b[0m\u001b[1;33m)\u001b[0m\u001b[1;33m\u001b[0m\u001b[1;33m\u001b[0m\u001b[0m\n",
      "\u001b[1;31mNameError\u001b[0m: name 'T3' is not defined"
     ]
    }
   ],
   "source": [
    "T1=20\n",
    "T3 = 30\n",
    "del T3\n",
    "print(T3)\n",
    "print(T1)"
   ]
  },
  {
   "cell_type": "markdown",
   "id": "ded56ccb",
   "metadata": {},
   "source": [
    "# return\n",
    "**Used to leave function and generate return!\n",
    "*when we don't write return : function return \"None\" by default\n",
    "*"
   ]
  },
  {
   "cell_type": "code",
   "execution_count": 16,
   "id": "8a829f35",
   "metadata": {},
   "outputs": [
    {
     "name": "stdout",
     "output_type": "stream",
     "text": [
      "None\n",
      "200\n"
     ]
    }
   ],
   "source": [
    "def func_rtn():  #() & : is necessary to declare function in python\n",
    "    var = 100\n",
    "print(func_rtn())  #without return : None \n",
    "\n",
    "\n",
    "def func_rtn1():\n",
    "    var1 = 200\n",
    "    return var1  #returning var1 with return keyword\n",
    "print(func_rtn1())"
   ]
  },
  {
   "cell_type": "markdown",
   "id": "997623c1",
   "metadata": {},
   "source": [
    "# pass\n",
    "**we use the pass command to create a blank container.\n",
    "*fakt function declare karun sodal tar error yeyil :IndentationError: expected an indented block after function definition\n",
    "*also pass keyword used to create an empty class too."
   ]
  },
  {
   "cell_type": "code",
   "execution_count": 17,
   "id": "b0d92acb",
   "metadata": {},
   "outputs": [
    {
     "ename": "IndentationError",
     "evalue": "expected an indented block (2569099307.py, line 1)",
     "output_type": "error",
     "traceback": [
      "\u001b[1;36m  File \u001b[1;32m\"C:\\Users\\davinder\\AppData\\Local\\Temp\\ipykernel_18108\\2569099307.py\"\u001b[1;36m, line \u001b[1;32m1\u001b[0m\n\u001b[1;33m    def func_pass():\u001b[0m\n\u001b[1;37m                    ^\u001b[0m\n\u001b[1;31mIndentationError\u001b[0m\u001b[1;31m:\u001b[0m expected an indented block\n"
     ]
    }
   ],
   "source": [
    "def func_pass():"
   ]
  },
  {
   "cell_type": "code",
   "execution_count": 22,
   "id": "6b400e9b",
   "metadata": {},
   "outputs": [],
   "source": [
    "def func_pass():\n",
    "    pass\n",
    "\n",
    "#return nothing : blank "
   ]
  },
  {
   "cell_type": "code",
   "execution_count": 29,
   "id": "6362891b",
   "metadata": {},
   "outputs": [],
   "source": [
    "class Empty_class:\n",
    "    pass\n",
    "\n",
    "#empty class "
   ]
  },
  {
   "cell_type": "markdown",
   "id": "f03a48c0",
   "metadata": {},
   "source": [
    "# Exception Handling Keywords - try, except, raise, finally, and assert\n",
    "\n",
    "**try  : designed to handle Exception : used with keyword \"except\"\n",
    "some kind of error occured, the program inside the \"try\" block is verified, but the code in that block is not executed.\n",
    "\n",
    "**except: (like Catch) operates in conjunction to handle exception\n",
    "\n",
    "**finally : whatever outcome of the try section : finally block executed \n",
    "**raise: The raise keyword could be used to specifically raise an exception.\n",
    "*Assert : for troubleshooting, code correct ahe ki nahi pahnyasathi, \n",
    "        :expression is interpreted as true : nothing occured\n",
    "        :if experession is false   : \"Assertion error is raised"
   ]
  },
  {
   "cell_type": "code",
   "execution_count": 4,
   "id": "3f5b3492",
   "metadata": {},
   "outputs": [
    {
     "name": "stdout",
     "output_type": "stream",
     "text": [
      "we cannot divid by zero\n",
      "finally kavapan\n",
      "\n"
     ]
    },
    {
     "ename": "AssertionError",
     "evalue": "ye nahi ho sakta bhaii 0 se kaise divide hoga",
     "output_type": "error",
     "traceback": [
      "\u001b[1;31m---------------------------------------------------------------------------\u001b[0m",
      "\u001b[1;31mAssertionError\u001b[0m                            Traceback (most recent call last)",
      "\u001b[1;32m~\\AppData\\Local\\Temp\\ipykernel_9692\\2169078576.py\u001b[0m in \u001b[0;36m<module>\u001b[1;34m\u001b[0m\n\u001b[0;32m     15\u001b[0m \u001b[0mprint\u001b[0m\u001b[1;33m(\u001b[0m\u001b[1;33m)\u001b[0m\u001b[1;33m\u001b[0m\u001b[1;33m\u001b[0m\u001b[0m\n\u001b[0;32m     16\u001b[0m \u001b[1;33m\u001b[0m\u001b[0m\n\u001b[1;32m---> 17\u001b[1;33m \u001b[1;32massert\u001b[0m \u001b[0mvar2\u001b[0m \u001b[1;33m!=\u001b[0m \u001b[1;36m0\u001b[0m\u001b[1;33m,\u001b[0m \u001b[1;34m\"ye nahi ho sakta bhaii 0 se kaise divide hoga\"\u001b[0m\u001b[1;33m\u001b[0m\u001b[1;33m\u001b[0m\u001b[0m\n\u001b[0m\u001b[0;32m     18\u001b[0m \u001b[1;33m\u001b[0m\u001b[0m\n\u001b[0;32m     19\u001b[0m \u001b[1;33m\u001b[0m\u001b[0m\n",
      "\u001b[1;31mAssertionError\u001b[0m: ye nahi ho sakta bhaii 0 se kaise divide hoga"
     ]
    }
   ],
   "source": [
    "var1=10\n",
    "var2=0\n",
    "\n",
    "try:\n",
    "    D=var1//var2\n",
    "    print(D)  \n",
    "    \n",
    "except ZeroDivisionError:\n",
    "    print(\"we cannot divid by zero\")\n",
    "    \n",
    "finally:\n",
    "    print(\"finally kavapan\")\n",
    "    \n",
    "    \n",
    "print()\n",
    "\n",
    "assert var2 != 0, \"ye nahi ho sakta bhaii 0 se kaise divide hoga\"\n",
    "    \n",
    "    "
   ]
  },
  {
   "cell_type": "code",
   "execution_count": 7,
   "id": "9113b290",
   "metadata": {},
   "outputs": [
    {
     "ename": "NameError",
     "evalue": "name 'prashat' is not defined",
     "output_type": "error",
     "traceback": [
      "\u001b[1;31m---------------------------------------------------------------------------\u001b[0m",
      "\u001b[1;31mNameError\u001b[0m                                 Traceback (most recent call last)",
      "\u001b[1;32m~\\AppData\\Local\\Temp\\ipykernel_9692\\3722279442.py\u001b[0m in \u001b[0;36m<module>\u001b[1;34m\u001b[0m\n\u001b[1;32m----> 1\u001b[1;33m \u001b[0mvar\u001b[0m\u001b[1;33m=\u001b[0m\u001b[0mprashat\u001b[0m\u001b[1;33m+\u001b[0m\u001b[1;36m3\u001b[0m\u001b[1;33m\u001b[0m\u001b[1;33m\u001b[0m\u001b[0m\n\u001b[0m\u001b[0;32m      2\u001b[0m \u001b[1;32mtry\u001b[0m\u001b[1;33m:\u001b[0m\u001b[1;33m\u001b[0m\u001b[1;33m\u001b[0m\u001b[0m\n\u001b[0;32m      3\u001b[0m     \u001b[0mprint\u001b[0m\u001b[1;33m(\u001b[0m\u001b[0mvar\u001b[0m\u001b[1;33m)\u001b[0m\u001b[1;33m\u001b[0m\u001b[1;33m\u001b[0m\u001b[0m\n\u001b[0;32m      4\u001b[0m \u001b[1;33m\u001b[0m\u001b[0m\n\u001b[0;32m      5\u001b[0m \u001b[1;32mexcept\u001b[0m \u001b[0mNameError\u001b[0m\u001b[1;33m:\u001b[0m\u001b[1;33m\u001b[0m\u001b[1;33m\u001b[0m\u001b[0m\n",
      "\u001b[1;31mNameError\u001b[0m: name 'prashat' is not defined"
     ]
    }
   ],
   "source": [
    "var=prashat+3\n",
    "try:\n",
    "    print(var)\n",
    "    \n",
    "except NameError:\n",
    "    print(\"is it name error\")"
   ]
  },
  {
   "cell_type": "code",
   "execution_count": 11,
   "id": "7277f006",
   "metadata": {},
   "outputs": [
    {
     "name": "stdout",
     "output_type": "stream",
     "text": [
      "this is type error\n",
      "finally oooo\n"
     ]
    }
   ],
   "source": [
    "var = '2'\n",
    "var2= 2\n",
    "try:\n",
    "    D=var+var2\n",
    "    print(D)\n",
    "    \n",
    "except TypeError:\n",
    "    print(\"this is type error\")\n",
    "    \n",
    "finally:\n",
    "    print(\"finally oooo\")"
   ]
  },
  {
   "cell_type": "code",
   "execution_count": 12,
   "id": "75f5c2e6",
   "metadata": {},
   "outputs": [
    {
     "ename": "RuntimeError",
     "evalue": "Failed to open database",
     "output_type": "error",
     "traceback": [
      "\u001b[1;31m---------------------------------------------------------------------------\u001b[0m",
      "\u001b[1;31mConnectionError\u001b[0m                           Traceback (most recent call last)",
      "\u001b[1;32m~\\AppData\\Local\\Temp\\ipykernel_9692\\367498070.py\u001b[0m in \u001b[0;36m<module>\u001b[1;34m\u001b[0m\n\u001b[0;32m      4\u001b[0m \u001b[1;32mtry\u001b[0m\u001b[1;33m:\u001b[0m\u001b[1;33m\u001b[0m\u001b[1;33m\u001b[0m\u001b[0m\n\u001b[1;32m----> 5\u001b[1;33m     \u001b[0mfunc\u001b[0m\u001b[1;33m(\u001b[0m\u001b[1;33m)\u001b[0m\u001b[1;33m\u001b[0m\u001b[1;33m\u001b[0m\u001b[0m\n\u001b[0m\u001b[0;32m      6\u001b[0m \u001b[1;32mexcept\u001b[0m \u001b[0mConnectionError\u001b[0m \u001b[1;32mas\u001b[0m \u001b[0mexc\u001b[0m\u001b[1;33m:\u001b[0m\u001b[1;33m\u001b[0m\u001b[1;33m\u001b[0m\u001b[0m\n",
      "\u001b[1;32m~\\AppData\\Local\\Temp\\ipykernel_9692\\367498070.py\u001b[0m in \u001b[0;36mfunc\u001b[1;34m()\u001b[0m\n\u001b[0;32m      1\u001b[0m \u001b[1;32mdef\u001b[0m \u001b[0mfunc\u001b[0m\u001b[1;33m(\u001b[0m\u001b[1;33m)\u001b[0m\u001b[1;33m:\u001b[0m\u001b[1;33m\u001b[0m\u001b[1;33m\u001b[0m\u001b[0m\n\u001b[1;32m----> 2\u001b[1;33m     \u001b[1;32mraise\u001b[0m \u001b[0mConnectionError\u001b[0m\u001b[1;33m\u001b[0m\u001b[1;33m\u001b[0m\u001b[0m\n\u001b[0m\u001b[0;32m      3\u001b[0m \u001b[1;33m\u001b[0m\u001b[0m\n",
      "\u001b[1;31mConnectionError\u001b[0m: ",
      "\nThe above exception was the direct cause of the following exception:\n",
      "\u001b[1;31mRuntimeError\u001b[0m                              Traceback (most recent call last)",
      "\u001b[1;32m~\\AppData\\Local\\Temp\\ipykernel_9692\\367498070.py\u001b[0m in \u001b[0;36m<module>\u001b[1;34m\u001b[0m\n\u001b[0;32m      5\u001b[0m     \u001b[0mfunc\u001b[0m\u001b[1;33m(\u001b[0m\u001b[1;33m)\u001b[0m\u001b[1;33m\u001b[0m\u001b[1;33m\u001b[0m\u001b[0m\n\u001b[0;32m      6\u001b[0m \u001b[1;32mexcept\u001b[0m \u001b[0mConnectionError\u001b[0m \u001b[1;32mas\u001b[0m \u001b[0mexc\u001b[0m\u001b[1;33m:\u001b[0m\u001b[1;33m\u001b[0m\u001b[1;33m\u001b[0m\u001b[0m\n\u001b[1;32m----> 7\u001b[1;33m     \u001b[1;32mraise\u001b[0m \u001b[0mRuntimeError\u001b[0m\u001b[1;33m(\u001b[0m\u001b[1;34m'Failed to open database'\u001b[0m\u001b[1;33m)\u001b[0m \u001b[1;32mfrom\u001b[0m \u001b[0mexc\u001b[0m\u001b[1;33m\u001b[0m\u001b[1;33m\u001b[0m\u001b[0m\n\u001b[0m",
      "\u001b[1;31mRuntimeError\u001b[0m: Failed to open database"
     ]
    }
   ],
   "source": [
    "def func():\n",
    "    raise ConnectionError\n",
    "\n",
    "try:\n",
    "    func()\n",
    "except ConnectionError as exc:\n",
    "    raise RuntimeError('Failed to open database') from exc"
   ]
  },
  {
   "cell_type": "code",
   "execution_count": 16,
   "id": "984a05d0",
   "metadata": {},
   "outputs": [
    {
     "name": "stdout",
     "output_type": "stream",
     "text": [
      "result is 2.0\n",
      "executing finally clause\n",
      "hanldled\n",
      "executing finally clause\n",
      "executing finally clause\n"
     ]
    },
    {
     "ename": "TypeError",
     "evalue": "unsupported operand type(s) for /: 'str' and 'str'",
     "output_type": "error",
     "traceback": [
      "\u001b[1;31m---------------------------------------------------------------------------\u001b[0m",
      "\u001b[1;31mTypeError\u001b[0m                                 Traceback (most recent call last)",
      "\u001b[1;32m~\\AppData\\Local\\Temp\\ipykernel_9692\\3706220425.py\u001b[0m in \u001b[0;36m<module>\u001b[1;34m\u001b[0m\n\u001b[0;32m     13\u001b[0m \u001b[0mdivid\u001b[0m\u001b[1;33m(\u001b[0m\u001b[1;36m4\u001b[0m\u001b[1;33m,\u001b[0m \u001b[1;36m2\u001b[0m\u001b[1;33m)\u001b[0m\u001b[1;33m\u001b[0m\u001b[1;33m\u001b[0m\u001b[0m\n\u001b[0;32m     14\u001b[0m \u001b[0mdivid\u001b[0m\u001b[1;33m(\u001b[0m\u001b[1;36m4\u001b[0m\u001b[1;33m,\u001b[0m \u001b[1;36m0\u001b[0m\u001b[1;33m)\u001b[0m\u001b[1;33m\u001b[0m\u001b[1;33m\u001b[0m\u001b[0m\n\u001b[1;32m---> 15\u001b[1;33m \u001b[0mdivid\u001b[0m\u001b[1;33m(\u001b[0m\u001b[1;34m\"4\"\u001b[0m\u001b[1;33m,\u001b[0m\u001b[1;34m\"2\"\u001b[0m\u001b[1;33m)\u001b[0m\u001b[1;33m\u001b[0m\u001b[1;33m\u001b[0m\u001b[0m\n\u001b[0m\u001b[0;32m     16\u001b[0m \u001b[1;33m\u001b[0m\u001b[0m\n\u001b[0;32m     17\u001b[0m \u001b[1;31m#in 1st case : exception cannot be occure so control goes \"else\" print result & then finally block will excecuted\u001b[0m\u001b[1;33m\u001b[0m\u001b[1;33m\u001b[0m\u001b[0m\n",
      "\u001b[1;32m~\\AppData\\Local\\Temp\\ipykernel_9692\\3706220425.py\u001b[0m in \u001b[0;36mdivid\u001b[1;34m(x, y)\u001b[0m\n\u001b[0;32m      1\u001b[0m \u001b[1;32mdef\u001b[0m \u001b[0mdivid\u001b[0m\u001b[1;33m(\u001b[0m\u001b[0mx\u001b[0m\u001b[1;33m,\u001b[0m \u001b[0my\u001b[0m\u001b[1;33m)\u001b[0m\u001b[1;33m:\u001b[0m\u001b[1;33m\u001b[0m\u001b[1;33m\u001b[0m\u001b[0m\n\u001b[0;32m      2\u001b[0m     \u001b[1;32mtry\u001b[0m\u001b[1;33m:\u001b[0m\u001b[1;33m\u001b[0m\u001b[1;33m\u001b[0m\u001b[0m\n\u001b[1;32m----> 3\u001b[1;33m         \u001b[0mresult\u001b[0m\u001b[1;33m=\u001b[0m\u001b[0mx\u001b[0m\u001b[1;33m/\u001b[0m\u001b[0my\u001b[0m\u001b[1;33m\u001b[0m\u001b[1;33m\u001b[0m\u001b[0m\n\u001b[0m\u001b[0;32m      4\u001b[0m \u001b[1;33m\u001b[0m\u001b[0m\n\u001b[0;32m      5\u001b[0m     \u001b[1;32mexcept\u001b[0m \u001b[0mZeroDivisionError\u001b[0m\u001b[1;33m:\u001b[0m\u001b[1;33m\u001b[0m\u001b[1;33m\u001b[0m\u001b[0m\n",
      "\u001b[1;31mTypeError\u001b[0m: unsupported operand type(s) for /: 'str' and 'str'"
     ]
    }
   ],
   "source": [
    "def divid(x, y):\n",
    "    try:\n",
    "        result=x/y\n",
    "    \n",
    "    except ZeroDivisionError:\n",
    "        print(\"hanldled\")\n",
    "        \n",
    "    else:\n",
    "        print(\"result is\", result)\n",
    "    \n",
    "    finally:\n",
    "        print(\"executing finally clause\")\n",
    "divid(4, 2)\n",
    "divid(4, 0)\n",
    "divid(\"4\",\"2\")\n",
    "\n",
    "#in 1st case : exception cannot be occure so control goes \"else\" print result & then finally block will excecuted\n",
    "#in 2nd case: when exception occure control goes to except block and it will handled, then goes to finally block\n",
    "#in 3rd case: string cannot be divid so also exception cannot handled in except so only print finlly and error will occured\n",
    "        "
   ]
  }
 ],
 "metadata": {
  "kernelspec": {
   "display_name": "Python 3 (ipykernel)",
   "language": "python",
   "name": "python3"
  },
  "language_info": {
   "codemirror_mode": {
    "name": "ipython",
    "version": 3
   },
   "file_extension": ".py",
   "mimetype": "text/x-python",
   "name": "python",
   "nbconvert_exporter": "python",
   "pygments_lexer": "ipython3",
   "version": "3.9.13"
  }
 },
 "nbformat": 4,
 "nbformat_minor": 5
}
