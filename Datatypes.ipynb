{
 "cells": [
  {
   "cell_type": "markdown",
   "id": "b5a32f28",
   "metadata": {},
   "source": [
    "# Data Types\n",
    "a=5\n",
    "\n",
    "**We did not specify the type of the variable 'a', which has the value five from an integer. The Python interpreter will automatically interpret the variable as an integer.   \n",
    "\n",
    "**type(): function to identify the type of variable\n"
   ]
  },
  {
   "cell_type": "code",
   "execution_count": null,
   "id": "7a54e2bc",
   "metadata": {},
   "outputs": [],
   "source": []
  },
  {
   "cell_type": "code",
   "execution_count": 1,
   "id": "f4409fad",
   "metadata": {},
   "outputs": [
    {
     "name": "stdout",
     "output_type": "stream",
     "text": [
      "<class 'int'>\n",
      "<class 'str'>\n",
      "<class 'float'>\n"
     ]
    }
   ],
   "source": [
    "a=10\n",
    "b=\"prashant\"\n",
    "c=10.122\n",
    "\n",
    "print(type(a))\n",
    "print(type(b))\n",
    "print(type(c))"
   ]
  },
  {
   "cell_type": "markdown",
   "id": "4bd9e0ef",
   "metadata": {},
   "source": [
    "# Python-defined data types.\n",
    "\n",
    "1. Number : Integer, float , complex number\n",
    "2. set\n",
    "3. boolean \n",
    "4. dictionary\n",
    "5. Sequence type :String, List, tuples"
   ]
  },
  {
   "cell_type": "markdown",
   "id": "fef21af2",
   "metadata": {},
   "source": [
    "# Number : \n",
    "\n",
    "1. python supports 3 kind of numerical data : int, float, complex number\n",
    "2. float can be accurate within 15 decimal places in python\n",
    "3. A complex number is represented by a 'complex' class. It is specified as (real part) + (imaginary part)j. For example – 2+3j"
   ]
  },
  {
   "cell_type": "code",
   "execution_count": 6,
   "id": "8cc8a43e",
   "metadata": {},
   "outputs": [
    {
     "name": "stdout",
     "output_type": "stream",
     "text": [
      "the type of c: <class 'complex'>\n",
      "c is a complex number : True\n"
     ]
    }
   ],
   "source": [
    "c=1+3j   #c=1+3k = this gives error bcoz k  \n",
    "\n",
    "print(\"the type of c:\",type(c))\n",
    "\n",
    "print(\"c is a complex number :\", isinstance(1+3j, complex))\n"
   ]
  },
  {
   "cell_type": "markdown",
   "id": "122e13a0",
   "metadata": {},
   "source": [
    "# String :\n",
    "1. string can be defined : single '', double \" \", triple quotes\n",
    "2. operator + is used to combine two strings.\n",
    "3. multiline string : \"\"\"prashant bhosale\"\"\""
   ]
  },
  {
   "cell_type": "code",
   "execution_count": 12,
   "id": "3ad7b210",
   "metadata": {},
   "outputs": [
    {
     "name": "stdout",
     "output_type": "stream",
     "text": [
      "prashant\n",
      "Dilip\n",
      "bhosale\n"
     ]
    }
   ],
   "source": [
    "str = \"\"\"prashant\n",
    "bhosale\"\"\"\n",
    "\n",
    "str1 = \"\"\"prashant\n",
    "Dilip\n",
    "bhosale\"\"\"\n",
    "print(str1)   "
   ]
  },
  {
   "cell_type": "markdown",
   "id": "7a4c4bbf",
   "metadata": {},
   "source": [
    "# Boolean\n",
    "1. True & False are two default values to define boolean\n",
    "2. correct statement define by True/any value other than 0\n",
    "3. incorrect statement : False/0"
   ]
  },
  {
   "cell_type": "code",
   "execution_count": 13,
   "id": "c672c3c5",
   "metadata": {},
   "outputs": [
    {
     "name": "stdout",
     "output_type": "stream",
     "text": [
      "<class 'bool'>\n",
      "<class 'bool'>\n"
     ]
    },
    {
     "ename": "NameError",
     "evalue": "name 'true' is not defined",
     "output_type": "error",
     "traceback": [
      "\u001b[1;31m---------------------------------------------------------------------------\u001b[0m",
      "\u001b[1;31mNameError\u001b[0m                                 Traceback (most recent call last)",
      "\u001b[1;32m~\\AppData\\Local\\Temp\\ipykernel_15776\\1128525655.py\u001b[0m in \u001b[0;36m<module>\u001b[1;34m\u001b[0m\n\u001b[0;32m      1\u001b[0m \u001b[0mprint\u001b[0m\u001b[1;33m(\u001b[0m\u001b[0mtype\u001b[0m\u001b[1;33m(\u001b[0m\u001b[1;32mTrue\u001b[0m\u001b[1;33m)\u001b[0m\u001b[1;33m)\u001b[0m\u001b[1;33m\u001b[0m\u001b[1;33m\u001b[0m\u001b[0m\n\u001b[0;32m      2\u001b[0m \u001b[0mprint\u001b[0m\u001b[1;33m(\u001b[0m\u001b[0mtype\u001b[0m\u001b[1;33m(\u001b[0m\u001b[1;32mFalse\u001b[0m\u001b[1;33m)\u001b[0m\u001b[1;33m)\u001b[0m\u001b[1;33m\u001b[0m\u001b[1;33m\u001b[0m\u001b[0m\n\u001b[1;32m----> 3\u001b[1;33m \u001b[0mprint\u001b[0m\u001b[1;33m(\u001b[0m\u001b[0mtype\u001b[0m\u001b[1;33m(\u001b[0m\u001b[0mtrue\u001b[0m\u001b[1;33m)\u001b[0m\u001b[1;33m)\u001b[0m\u001b[1;33m\u001b[0m\u001b[1;33m\u001b[0m\u001b[0m\n\u001b[0m",
      "\u001b[1;31mNameError\u001b[0m: name 'true' is not defined"
     ]
    }
   ],
   "source": [
    "print(type(True))\n",
    "print(type(False))\n",
    "print(type(true))"
   ]
  },
  {
   "cell_type": "markdown",
   "id": "1bf24c78",
   "metadata": {},
   "source": [
    "# Set, Dict, Tuple, Strings & List we will see in seperate topics "
   ]
  }
 ],
 "metadata": {
  "kernelspec": {
   "display_name": "Python 3 (ipykernel)",
   "language": "python",
   "name": "python3"
  },
  "language_info": {
   "codemirror_mode": {
    "name": "ipython",
    "version": 3
   },
   "file_extension": ".py",
   "mimetype": "text/x-python",
   "name": "python",
   "nbconvert_exporter": "python",
   "pygments_lexer": "ipython3",
   "version": "3.9.13"
  }
 },
 "nbformat": 4,
 "nbformat_minor": 5
}
