{
 "cells": [
  {
   "cell_type": "markdown",
   "id": "a44ecc27",
   "metadata": {},
   "source": [
    "# Operators\n",
    "\n",
    "**Operators is a symbol that perform a specific operation between two operands**\n",
    "\n",
    "**Types**\n",
    "1. Arithmatic Operators\n",
    "2. Comparison Operators\n",
    "3. Assignment Operators\n",
    "4. Logical Operators\n",
    "5. Bitwise Operators\n",
    "6. Identity & Membership Operators"
   ]
  },
  {
   "cell_type": "markdown",
   "id": "f8ce0cc4",
   "metadata": {},
   "source": [
    "# 1. Arithmatic Operators\n",
    "\n",
    "1. Addition (+) : you know\n",
    "2. Substraction (-): you know\n",
    "3. Division (/) : you know\n",
    "4. multiplication(*) : you know\n",
    "5. Reminder (%) : a=10, b=3, =>a%b = 10%3= 1 is reminder\n",
    "5. Exponent (**) : a=32, b=5, a**b = 33554432\n",
    "    * Its calculate the 1st operands power to the 2nd operand\n",
    "6. floor division(//): \n",
    "\n",
    "\n"
   ]
  },
  {
   "cell_type": "code",
   "execution_count": 8,
   "id": "1e1ec9c7",
   "metadata": {},
   "outputs": [
    {
     "name": "stdout",
     "output_type": "stream",
     "text": [
      "Print Exponent : 33554432\n",
      "Print Division : 6.4\n",
      "Print Floor Division: 6\n"
     ]
    }
   ],
   "source": [
    "a = 32\n",
    "b = 5\n",
    "c = a**b\n",
    "print(\"Print Exponent :\",c)\n",
    "\n",
    "d = a/b \n",
    "print(\"Print Division :\",d)\n",
    "\n",
    "f = a//b\n",
    "print(\"Print Floor Division:\",f)  #purn bhag jau pryant nahii\n",
    "\n",
    "\n"
   ]
  },
  {
   "cell_type": "markdown",
   "id": "fe81907a",
   "metadata": {},
   "source": [
    "# 2. Comparision Operators\n",
    "\n",
    "**Comparision Op. campares two operands and return in boolean format : True & False\n",
    "\n",
    "1. ==  : compare the **value** of two operands, if equals then : True\n",
    "2. !=  : Not Equal to : value of two operands is not equals then : True\n",
    "3. <=  : Less than equal to : 6<=12 : True,   12<=12 : True,   100<=10 : False\n",
    "4. >=  : Greater than equal to : 100>=10 : True, 10>=10: True\n",
    "5. < : Less than : 5<10 : True\n",
    "6. > : Greater than : 10>5: True\n"
   ]
  },
  {
   "cell_type": "code",
   "execution_count": 9,
   "id": "e1b81b41",
   "metadata": {},
   "outputs": [
    {
     "name": "stdout",
     "output_type": "stream",
     "text": [
      "False\n",
      "True\n",
      "False\n",
      "True\n",
      "False\n",
      "True\n"
     ]
    }
   ],
   "source": [
    "a = 13\n",
    "b = 33\n",
    "  \n",
    "print(a > b) \n",
    "print(a < b) \n",
    "print(a == b) \n",
    "print(a != b) \n",
    "print(a >= b) \n",
    "print(a <= b)"
   ]
  },
  {
   "cell_type": "markdown",
   "id": "f5c6b6a8",
   "metadata": {},
   "source": [
    "# 3. Assignment Operators\n",
    "\n",
    "1. =  : it assign the value of right expression to left operand\n",
    "2. += : a+=b : a=a+b => left a will receive value of left+right addition, a=10, b=20, a=10+20=30, now \"a\" became 30\n",
    "3. *= : a*=b : a=a*b => \n",
    "4. -= : a-=b : a=a-b\n",
    "5. %= : a%=b : a=a%b\n",
    "6. **=:a**=b will be equal to a=a**b, for example, if a = 4, b =2, a**=b will assign 4**2 = 16 to a.\n",
    "7. //=:a//=b : a=a//b ;  a=10//3=3 \n",
    "    * The ‘//’ operator in Python returns the integer part of the floating number.\n"
   ]
  },
  {
   "cell_type": "code",
   "execution_count": 9,
   "id": "ed14aeb1",
   "metadata": {},
   "outputs": [
    {
     "name": "stdout",
     "output_type": "stream",
     "text": [
      "5\n",
      "10\n",
      "100000\n"
     ]
    }
   ],
   "source": [
    "a=20\n",
    "b=5\n",
    "#print(\"a+=b:\",a+=b)      it will throw an error \n",
    "a=b\n",
    "print(a)\n",
    "\n",
    "a+=b\n",
    "print(a)\n",
    "\n",
    "a**=b\n",
    "print(a)"
   ]
  },
  {
   "cell_type": "markdown",
   "id": "f7ac8871",
   "metadata": {},
   "source": [
    "# 4. Bitwise Operators\n",
    "The two operands' values are processed bit by bit by the bitwise operators.\n",
    "1. & (AND) =\n",
    "2. | (OR)  =\n",
    "3. ^ (XOR) =\n",
    "4. ~ (negation)=\n",
    "5. <<(left shift)=\n",
    "6. >>(right shift)=\n",
    "\n",
    "**Critical to understand it works/perform on binary bit**"
   ]
  },
  {
   "cell_type": "code",
   "execution_count": 13,
   "id": "5e47b5e4",
   "metadata": {},
   "outputs": [
    {
     "name": "stdout",
     "output_type": "stream",
     "text": [
      "0\n",
      "30\n",
      "30\n",
      "-21\n"
     ]
    }
   ],
   "source": [
    "a = 10\n",
    "b = 20\n",
    "print(a&b)\n",
    "print(a|b)\n",
    "print(a^b)\n",
    "print(~b)"
   ]
  },
  {
   "cell_type": "markdown",
   "id": "a9e317b3",
   "metadata": {},
   "source": [
    "# 5. Logical Operators\n",
    "* to make assessment of expressions to make decision use LO\n",
    "\n",
    "1. Logical and :both statement will check, multiplication ahe result sath both statement should be check (1 * 0)\n",
    "2. Logical or  :Any one statement is true ( if 1st found true then no need to check 2nd)\n",
    "3. Logical not :"
   ]
  },
  {
   "cell_type": "code",
   "execution_count": 24,
   "id": "8c94d0d8",
   "metadata": {},
   "outputs": [
    {
     "name": "stdout",
     "output_type": "stream",
     "text": [
      "False\n",
      "True\n",
      "True\n",
      "20\n",
      "40\n",
      "True\n"
     ]
    }
   ],
   "source": [
    "a = True\n",
    "b = False\n",
    "print(a and b)    # 1*0=0\n",
    "print(a or b)     # 1+0=1\n",
    "print(not(a==b))  # not(1==0)\n",
    "\n",
    "a = 40\n",
    "b = 20\n",
    "print(a and b)\n",
    "print(a or b)\n",
    "print(not(a==b)) # not(false)=True"
   ]
  },
  {
   "cell_type": "markdown",
   "id": "3290622e",
   "metadata": {},
   "source": [
    "# 6. Membership Operators\n",
    "* Used to whether value or variable found is in a sequence\n",
    "\n",
    "1. in :  True if value is found in the sequence\n",
    "2. not in :  True if value is not found in the sequence"
   ]
  },
  {
   "cell_type": "code",
   "execution_count": 28,
   "id": "bb8cfd63",
   "metadata": {},
   "outputs": [
    {
     "name": "stdout",
     "output_type": "stream",
     "text": [
      "yes\n",
      "yes\n",
      "no\n"
     ]
    }
   ],
   "source": [
    "x = 20\n",
    "y = 22\n",
    "list = [10, 20, 30, 40]\n",
    "\n",
    "if (x in list):\n",
    "    print(\"yes\")\n",
    "    \n",
    "else:\n",
    "    print(\"no\")\n",
    "#________________________   \n",
    "\n",
    "if (y not in list):\n",
    "    print(\"yes\")\n",
    "    \n",
    "else:\n",
    "    print(\"no\")\n",
    "#________________________ \n",
    "\n",
    "if (x not in list):\n",
    "    print(\"yes\")\n",
    "    \n",
    "else:\n",
    "    print(\"no\")"
   ]
  },
  {
   "cell_type": "markdown",
   "id": "9fa5923b",
   "metadata": {},
   "source": [
    "# 7. Identity operators (memory location check karto)\n",
    "* used to check if two values are located on the same part of the memory.**\n",
    "* value of variable jar same asel its not meant that ki te identical zale**\n",
    "1. is   : True if both operands are identical\n",
    "2. is not: no identical\n",
    "\n",
    "\n",
    "\n"
   ]
  },
  {
   "cell_type": "code",
   "execution_count": 29,
   "id": "d08b1c80",
   "metadata": {},
   "outputs": [
    {
     "name": "stdout",
     "output_type": "stream",
     "text": [
      "False\n",
      "True\n",
      "True\n"
     ]
    }
   ],
   "source": [
    "a = 10\n",
    "b = 20 \n",
    "c = b # c ha b chya location la point kartoy \n",
    "\n",
    "print(a is b)  #a ani b chi memory location diff ahet as he statement mhanty : flase\n",
    "print(a is not b) # a ani b same location la nahit as he statement mhnaty : True\n",
    "print(c is b) #c ani b both are 20 and same location la point kartat : True"
   ]
  }
 ],
 "metadata": {
  "kernelspec": {
   "display_name": "Python 3 (ipykernel)",
   "language": "python",
   "name": "python3"
  },
  "language_info": {
   "codemirror_mode": {
    "name": "ipython",
    "version": 3
   },
   "file_extension": ".py",
   "mimetype": "text/x-python",
   "name": "python",
   "nbconvert_exporter": "python",
   "pygments_lexer": "ipython3",
   "version": "3.9.13"
  }
 },
 "nbformat": 4,
 "nbformat_minor": 5
}
