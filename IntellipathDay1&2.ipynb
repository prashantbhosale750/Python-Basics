{
 "cells": [
  {
   "cell_type": "markdown",
   "id": "3f102307-3825-4f1a-8cad-1c2ed8474fda",
   "metadata": {},
   "source": [
    "**python:** - easy syntax, interpreted, prebuilt lib & methods, oops\n",
    "1. helpful in complex mathematical calculations required for data science\n",
    "2. handle big data\n",
    "3. create web applications also\n",
    "4. everything is case sensitive in python language"
   ]
  },
  {
   "cell_type": "code",
   "execution_count": null,
   "id": "0da847d9-738c-483b-bc53-f0071ec29ae3",
   "metadata": {},
   "outputs": [],
   "source": []
  },
  {
   "cell_type": "code",
   "execution_count": 5,
   "id": "86a7fd81-ec66-4bc2-9f9c-2a89504cbe7e",
   "metadata": {},
   "outputs": [
    {
     "name": "stdout",
     "output_type": "stream",
     "text": [
      "hello prashant, you are rocking in this course and also you would be did exciting job done in this course, so proud of myself\n"
     ]
    }
   ],
   "source": [
    "print('hello prashant, you are rocking in this course and also you would be did exciting job done in this course, so proud of myself')"
   ]
  },
  {
   "cell_type": "code",
   "execution_count": 7,
   "id": "4b60b663-f6db-4f4d-ac28-040504d37910",
   "metadata": {},
   "outputs": [
    {
     "name": "stdout",
     "output_type": "stream",
     "text": [
      "hello world\n"
     ]
    }
   ],
   "source": [
    "print(\"hello world\")"
   ]
  },
  {
   "cell_type": "code",
   "execution_count": 15,
   "id": "2ec7d2f5-0c2f-41d5-9029-7e39f5bfdb3f",
   "metadata": {},
   "outputs": [
    {
     "name": "stdin",
     "output_type": "stream",
     "text": [
      "Enter your name:  Prashant\n"
     ]
    },
    {
     "data": {
      "text/plain": [
       "'Prashant'"
      ]
     },
     "execution_count": 15,
     "metadata": {},
     "output_type": "execute_result"
    }
   ],
   "source": [
    "input(\"Enter your name: \") #take user input"
   ]
  },
  {
   "cell_type": "code",
   "execution_count": 21,
   "id": "f222f480-f689-4607-8b83-65d26eb3400b",
   "metadata": {},
   "outputs": [
    {
     "name": "stdout",
     "output_type": "stream",
     "text": [
      "30\n"
     ]
    }
   ],
   "source": [
    "#variable: value is not fixed\n",
    "#value will be stored in memory location with name a\n",
    "\"\"\"The memory allocation for objects happens on the heap memory. \n",
    "The heap is where all dynamically allocated objects, \n",
    "such as integers, lists, strings, and other data structures, are stored\"\"\"\n",
    "a=30\n",
    "print(a)"
   ]
  },
  {
   "cell_type": "code",
   "execution_count": null,
   "id": "275acf2e-c382-42f0-a8c3-22ce9f19cc67",
   "metadata": {},
   "outputs": [],
   "source": [
    "print(print) #Error : int obj is not callable"
   ]
  },
  {
   "cell_type": "code",
   "execution_count": null,
   "id": "a20a4527-8f6a-4310-a637-cb7c0ebf1bfc",
   "metadata": {},
   "outputs": [],
   "source": [
    "# multi-word varibles\n",
    "# camel case--> myVariableNames\n",
    "# pascal case--> MyVariName\n",
    "# under_snake case--> my_vari_name"
   ]
  },
  {
   "cell_type": "code",
   "execution_count": 23,
   "id": "222bffeb-77bc-44c0-b848-f06148c4c6ca",
   "metadata": {},
   "outputs": [
    {
     "name": "stdout",
     "output_type": "stream",
     "text": [
      "1 2 3\n",
      "1\n"
     ]
    }
   ],
   "source": [
    "#many values to multiple variables at once\n",
    "x,y,z=1,2,3\n",
    "print(x,y,z)\n",
    "print(x)"
   ]
  },
  {
   "cell_type": "code",
   "execution_count": 25,
   "id": "7c050689-ce68-4b5b-89e0-e887c18824f4",
   "metadata": {},
   "outputs": [
    {
     "name": "stdout",
     "output_type": "stream",
     "text": [
      "100 100 100\n"
     ]
    }
   ],
   "source": [
    "#one value to multiple variables\n",
    "p=q=r=100\n",
    "print(p,q,r)\n"
   ]
  },
  {
   "cell_type": "code",
   "execution_count": 27,
   "id": "4b724cba-690a-4f69-958a-80cfcd20d42b",
   "metadata": {},
   "outputs": [
    {
     "name": "stdout",
     "output_type": "stream",
     "text": [
      "[1, 2, 3, 4, 5]\n"
     ]
    }
   ],
   "source": [
    "#multiple values in one variable\n",
    "multi_value=[1,2,3,4,5]\n",
    "print(multi_value)"
   ]
  },
  {
   "cell_type": "code",
   "execution_count": null,
   "id": "12149aa7-e185-4208-9103-c008d22f0635",
   "metadata": {},
   "outputs": [],
   "source": [
    "# Datatypes --> what type of data we are using\n",
    "# integer --> number (positive/negative)\n",
    "# float --> decimal 1.2, 2.3\n",
    "# string --> characters, alphabets, symbols, combination of all\n",
    "# boolean --> true/false, 1/0, yes/no"
   ]
  },
  {
   "cell_type": "code",
   "execution_count": 43,
   "id": "ef166da2-158d-4d9d-b20c-c41d29d49511",
   "metadata": {},
   "outputs": [
    {
     "name": "stdout",
     "output_type": "stream",
     "text": [
      "<class 'int'>\n",
      "<class 'float'>\n",
      "<class 'bool'>\n",
      "<class 'str'>\n"
     ]
    }
   ],
   "source": [
    "x=10\n",
    "print(type(x))\n",
    "\n",
    "x=10.5\n",
    "print(type(x))\n",
    "\n",
    "x=True\n",
    "print(type(x))\n",
    "\n",
    "x='True'\n",
    "print(type(x))"
   ]
  },
  {
   "cell_type": "code",
   "execution_count": 49,
   "id": "08b9c40b-9c53-402d-87bb-136681af0232",
   "metadata": {},
   "outputs": [
    {
     "name": "stdout",
     "output_type": "stream",
     "text": [
      "he hii \"kick\"\n"
     ]
    }
   ],
   "source": [
    "# String representation: single quote, double quote, triple'''prashat''' for multiline\n",
    "convn='''he hii \"kick\"'''\n",
    "print(convn)"
   ]
  },
  {
   "cell_type": "code",
   "execution_count": 51,
   "id": "67e29499-d27d-4131-a844-f58547a636e7",
   "metadata": {},
   "outputs": [
    {
     "name": "stdout",
     "output_type": "stream",
     "text": [
      "6.0\n"
     ]
    }
   ],
   "source": [
    "x=\"6\" #string to float\n",
    "y=float(x)\n",
    "print(y)"
   ]
  },
  {
   "cell_type": "markdown",
   "id": "290513a4-9d9e-4679-8b91-e6a9e5ba653b",
   "metadata": {},
   "source": [
    "**Methods:**\n",
    "1. inbuilt functionalities provided by python\n",
    "2. string methods : methods used to do operations on strings\n",
    "3. capitalize :"
   ]
  },
  {
   "cell_type": "code",
   "execution_count": 7,
   "id": "7bd22d50-2229-46b5-b75e-1b51fb2c605e",
   "metadata": {},
   "outputs": [
    {
     "name": "stdout",
     "output_type": "stream",
     "text": [
      "9\n"
     ]
    }
   ],
   "source": [
    "#len(str1) : len ke bracket main likhna padta hain \n",
    "str=\"dfsf dkfj\" #space will be countable\n",
    "print(len(str))"
   ]
  },
  {
   "cell_type": "code",
   "execution_count": 9,
   "id": "9f6dc541-2fcb-4ba4-b2ca-525fb63e8ff4",
   "metadata": {},
   "outputs": [
    {
     "name": "stdout",
     "output_type": "stream",
     "text": [
      "DFSF DKFJ\n"
     ]
    }
   ],
   "source": [
    "#upper : convert all characters in a string to upper case\n",
    "str1=str.upper()\n",
    "print(str1)"
   ]
  },
  {
   "cell_type": "code",
   "execution_count": 11,
   "id": "7d700c12-9209-4a2e-acaf-8d5482a7ef9e",
   "metadata": {},
   "outputs": [
    {
     "data": {
      "text/plain": [
       "'dfsf dkfj'"
      ]
     },
     "execution_count": 11,
     "metadata": {},
     "output_type": "execute_result"
    }
   ],
   "source": [
    "#lower : convert all characters in a string to lower case\n",
    "str1.lower()"
   ]
  },
  {
   "cell_type": "code",
   "execution_count": 23,
   "id": "53a01148-5e1a-4358-b677-78919f940ca1",
   "metadata": {},
   "outputs": [
    {
     "name": "stdout",
     "output_type": "stream",
     "text": [
      "19\n",
      "HI THIS IS PRASHANT\n",
      "hi this is prashant\n"
     ]
    }
   ],
   "source": [
    "value=\"hi this is prashant\"\n",
    "print(len(value))\n",
    "valueUpper = value.upper()\n",
    "print(valueUpper)\n",
    "valueLower = valueUpper.lower()\n",
    "print(valueLower"
   ]
  },
  {
   "cell_type": "code",
   "execution_count": 31,
   "id": "9339ad6f-5b1a-42ca-bca4-73e325594da5",
   "metadata": {},
   "outputs": [
    {
     "data": {
      "text/plain": [
       "'Hi This Is Prashant'"
      ]
     },
     "execution_count": 31,
     "metadata": {},
     "output_type": "execute_result"
    }
   ],
   "source": [
    "#Capitalize\n",
    "#capitalizes first letter capital\n",
    "value=\"hi this is prashant\"\n",
    "value.capitalize()\n"
   ]
  },
  {
   "cell_type": "code",
   "execution_count": 35,
   "id": "30404fc6-60e2-44af-a0f4-dfa2b81a5ebd",
   "metadata": {},
   "outputs": [
    {
     "data": {
      "text/plain": [
       "'Prashant Bhosale'"
      ]
     },
     "execution_count": 35,
     "metadata": {},
     "output_type": "execute_result"
    }
   ],
   "source": [
    "#title() : capitalize first letter of every word\n",
    "value1=\"prashant bhosale\"\n",
    "value1.title()"
   ]
  },
  {
   "cell_type": "code",
   "execution_count": 45,
   "id": "670dd128-1ce0-47fa-a3d5-056a3a3b4c9c",
   "metadata": {},
   "outputs": [
    {
     "name": "stdout",
     "output_type": "stream",
     "text": [
      "18\n",
      "16\n"
     ]
    }
   ],
   "source": [
    "#strip() : remove uneccessary white spaces from backside and frontside from given string\n",
    "strStrip=\" prashant bhosael \"\n",
    "print(len(strStrip))\n",
    "str2=strStrip.strip()\n",
    "print(len(str2))"
   ]
  },
  {
   "cell_type": "code",
   "execution_count": 55,
   "id": "ea6c1ab6-a7b9-4c74-8227-3904a14c8809",
   "metadata": {},
   "outputs": [
    {
     "name": "stdout",
     "output_type": "stream",
     "text": [
      "Hii this is prashant bhosale\n",
      "helllllo this is prashant bhosale\n"
     ]
    }
   ],
   "source": [
    "#replace : \n",
    "value = \"Hii this is prashant bhosale\"\n",
    "print(value)\n",
    "value1=value.replace(\"Hii\", \"helllllo\")\n",
    "print(value1)"
   ]
  },
  {
   "cell_type": "code",
   "execution_count": 69,
   "id": "0ea3b383-6c66-4f74-8235-e5b23fb768fe",
   "metadata": {},
   "outputs": [
    {
     "data": {
      "text/plain": [
       "['pr', 'sh', 'nt bhos', 'le']"
      ]
     },
     "execution_count": 69,
     "metadata": {},
     "output_type": "execute_result"
    }
   ],
   "source": [
    "#split()  : how to divide the string\n",
    "value = \"prashant bhosale\"\n",
    "value.split(\"a\") #whenever \"a\" comes string will split\n",
    "\n",
    "# value1= \"hi, prash, hello, kaybhawa\"\n",
    "# value1.split(\",\")"
   ]
  },
  {
   "cell_type": "markdown",
   "id": "24e7973d-339e-44ff-bf7c-f7bc719661d6",
   "metadata": {},
   "source": [
    "**index :**\n",
    "1. starts with zero : 0,1,2,3....\n",
    "2. location of a element in a data\n",
    "3. Negative indexing : start from ...-3,-2,-1\n",
    "4. index is a method that belongs to sequences like lists, strings, and tuples. "
   ]
  },
  {
   "cell_type": "code",
   "execution_count": 92,
   "id": "0a6b36de-9465-4d81-896a-ac386eb528f8",
   "metadata": {},
   "outputs": [
    {
     "data": {
      "text/plain": [
       "3"
      ]
     },
     "execution_count": 92,
     "metadata": {},
     "output_type": "execute_result"
    }
   ],
   "source": [
    "value = \"prashant\"\n",
    "value.index(\"s\")\n",
    "\n",
    "# int1 = 12345\n",
    "# int1.index(3) #AttributeError: 'int' object has no attribute 'index'\n",
    "\n",
    " #index is a method that belongs to sequences like lists, strings, and tuples. "
   ]
  },
  {
   "cell_type": "markdown",
   "id": "0cdd9f20-b370-407f-a58f-49ea1a9126e4",
   "metadata": {},
   "source": [
    "**Slicing**"
   ]
  },
  {
   "cell_type": "code",
   "execution_count": null,
   "id": "35572f56-3163-4ecb-b1bf-0c1a0540b65f",
   "metadata": {},
   "outputs": [],
   "source": [
    "#slice : \n",
    "\n",
    "value = \"hi how are you, 4545\"\n",
    "value[3:7]  #[start:end+1] \n",
    "#3 to 6 will be print\n",
    "#7th charactor will skip"
   ]
  },
  {
   "cell_type": "code",
   "execution_count": 96,
   "id": "eba295b8-5f25-4cb0-99af-e816c9cd78d9",
   "metadata": {},
   "outputs": [
    {
     "data": {
      "text/plain": [
       "'hi how '"
      ]
     },
     "execution_count": 96,
     "metadata": {},
     "output_type": "execute_result"
    }
   ],
   "source": [
    "value = \"hi how are you, 4545\"\n",
    "value[:7]  #[start:end+1]"
   ]
  },
  {
   "cell_type": "code",
   "execution_count": 98,
   "id": "eee972a5-68c8-45ef-9720-b96da50dd6df",
   "metadata": {},
   "outputs": [
    {
     "data": {
      "text/plain": [
       "'how are you, 4545'"
      ]
     },
     "execution_count": 98,
     "metadata": {},
     "output_type": "execute_result"
    }
   ],
   "source": [
    "value = \"hi how are you, 4545\"\n",
    "value[3:]  #[start:end+1]"
   ]
  },
  {
   "cell_type": "code",
   "execution_count": 108,
   "id": "f7ec059f-f6d0-4614-98dd-3c09cf32dd7c",
   "metadata": {},
   "outputs": [
    {
     "data": {
      "text/plain": [
       "'34567'"
      ]
     },
     "execution_count": 108,
     "metadata": {},
     "output_type": "execute_result"
    }
   ],
   "source": [
    "num = \"1234567\"\n",
    "num[2:10]"
   ]
  },
  {
   "cell_type": "code",
   "execution_count": 106,
   "id": "62896d8e-be83-4e75-bc92-be674c603ee0",
   "metadata": {},
   "outputs": [
    {
     "data": {
      "text/plain": [
       "'345'"
      ]
     },
     "execution_count": 106,
     "metadata": {},
     "output_type": "execute_result"
    }
   ],
   "source": [
    "num2 = \"1234567\"\n",
    "num2[2:5]"
   ]
  },
  {
   "cell_type": "code",
   "execution_count": 118,
   "id": "ddff6e88-cd23-4beb-98bc-f1da25d936bb",
   "metadata": {},
   "outputs": [
    {
     "data": {
      "text/plain": [
       "'345'"
      ]
     },
     "execution_count": 118,
     "metadata": {},
     "output_type": "execute_result"
    }
   ],
   "source": [
    "num2 = \"1234567\"\n",
    "num2[2:5:1]\n",
    "[2:5:1] #start:end+1:step size] "
   ]
  },
  {
   "cell_type": "code",
   "execution_count": 120,
   "id": "4defbc70-3749-4d6b-9982-8083064f029d",
   "metadata": {},
   "outputs": [
    {
     "data": {
      "text/plain": [
       "'35'"
      ]
     },
     "execution_count": 120,
     "metadata": {},
     "output_type": "execute_result"
    }
   ],
   "source": [
    "num2 = \"1234567\"\n",
    "num2[2:5:2]"
   ]
  },
  {
   "cell_type": "code",
   "execution_count": 122,
   "id": "d863524b-2f42-4066-a1ae-a99ff3b6e582",
   "metadata": {},
   "outputs": [
    {
     "data": {
      "text/plain": [
       "'35'"
      ]
     },
     "execution_count": 122,
     "metadata": {},
     "output_type": "execute_result"
    }
   ],
   "source": [
    "num2 = \"1234567\"\n",
    "num2[2:6:2]\n",
    "#A step of 2 means that you take every second character within the specified range.\n",
    "# Visual Representation:\n",
    "# Original String: \"1 2 3 4 5 6 7\"\n",
    "# Indices: 0 1 2 3 4 5 6\n",
    "#[2:6] result :2345\n",
    "# Slicing Result: \" 3 5\" (steping 2 elements)"
   ]
  },
  {
   "cell_type": "code",
   "execution_count": 150,
   "id": "f61f9862-153d-44db-9f8f-74d3054835d9",
   "metadata": {},
   "outputs": [
    {
     "data": {
      "text/plain": [
       "(1, 2, 3, 4, 5, 6, 7, 8, 9)"
      ]
     },
     "execution_count": 150,
     "metadata": {},
     "output_type": "execute_result"
    }
   ],
   "source": [
    "x=(1,2,3,4,5,6,7,8,9,10)\n",
    "x[-10:-1] "
   ]
  },
  {
   "cell_type": "code",
   "execution_count": 146,
   "id": "595426c2-1f10-44da-bc50-50d34e32af10",
   "metadata": {},
   "outputs": [
    {
     "data": {
      "text/plain": [
       "(3, 1)"
      ]
     },
     "execution_count": 146,
     "metadata": {},
     "output_type": "execute_result"
    }
   ],
   "source": [
    "x=(1,2,3,4,5,6,7,8,9,10)\n",
    "x[-8::-2] "
   ]
  },
  {
   "cell_type": "code",
   "execution_count": 152,
   "id": "4c851d8f-0c24-44d1-882a-e0aa78658293",
   "metadata": {},
   "outputs": [
    {
     "data": {
      "text/plain": [
       "(3, 4, 5, 6, 7, 8, 9, 10)"
      ]
     },
     "execution_count": 152,
     "metadata": {},
     "output_type": "execute_result"
    }
   ],
   "source": [
    "x=(1,2,3,4,5,6,7,8,9,10)\n",
    "x[-8:]"
   ]
  },
  {
   "cell_type": "code",
   "execution_count": 154,
   "id": "14f05f9e-b7b2-411e-86ce-5d8bfb2db24b",
   "metadata": {},
   "outputs": [
    {
     "name": "stdout",
     "output_type": "stream",
     "text": [
      "123456789pdb\n"
     ]
    }
   ],
   "source": [
    "#string concatination\n",
    "str=\"123456789\"\n",
    "str1=\"pdb\"\n",
    "str3=str+str1\n",
    "print(str3)"
   ]
  },
  {
   "cell_type": "code",
   "execution_count": 164,
   "id": "8d4caf68-ed78-4285-801c-be00e06f4052",
   "metadata": {},
   "outputs": [
    {
     "name": "stdout",
     "output_type": "stream",
     "text": [
      "i have 10 rupees\n",
      "i have 10 10 rupees\n",
      "10 i have 10 rupees\n"
     ]
    }
   ],
   "source": [
    "# f- format strings --> format to write strings\n",
    "x=\"10\"\n",
    "print(\"i have \" + x + \" rupees\")\n",
    "print(f\"i have {x} {x} rupees\")\n",
    "print(f\"{x} i have {x} rupees\")"
   ]
  },
  {
   "cell_type": "markdown",
   "id": "025edcba-775e-4eb3-9a57-40ffc1d6f5ae",
   "metadata": {},
   "source": [
    "**OPERATORS**\n",
    "1. arithmatic ==>  +,-,*,/,\n",
    "* %,//,**"
   ]
  },
  {
   "cell_type": "code",
   "execution_count": 193,
   "id": "25fad653-52e7-4fde-889f-1e9de4a9d1e3",
   "metadata": {},
   "outputs": [
    {
     "name": "stdout",
     "output_type": "stream",
     "text": [
      "1\n",
      "33.333333333333336\n",
      "33\n",
      "1000000\n",
      "27\n"
     ]
    }
   ],
   "source": [
    "x=100\n",
    "y=3\n",
    "# % Modulo --> returns the remainder(baki)\n",
    "# / return quotient (bhagakar)\n",
    "# // returns the quotient but in integer datatype(bhagakar in int)\n",
    "print(x%y) #baki\n",
    "print(x/y) #bhagakar\n",
    "print(x//y) #bhagakar but in integer datatype\n",
    "print(x**y) #100^3 : 100 cha cube\n",
    "print(y**3) #3^3 : 27 (cube of 3)"
   ]
  },
  {
   "cell_type": "markdown",
   "id": "9eed6953-5f21-410e-b4b5-065105c2c518",
   "metadata": {},
   "source": [
    "2. Assignment operator\n",
    "* =, +=, -=, *=, /=, %=, //=, **=\n",
    "* "
   ]
  },
  {
   "cell_type": "code",
   "execution_count": 181,
   "id": "a0d4bb6d-de05-4c78-9b34-e923df2b41b2",
   "metadata": {},
   "outputs": [
    {
     "name": "stdout",
     "output_type": "stream",
     "text": [
      "8\n"
     ]
    }
   ],
   "source": [
    "x=10\n",
    "x-=2  #x=x-2\n",
    "print(x)"
   ]
  },
  {
   "cell_type": "code",
   "execution_count": 183,
   "id": "9b8855bf-5fe2-41e8-a0e7-1cb46492efdf",
   "metadata": {},
   "outputs": [
    {
     "name": "stdout",
     "output_type": "stream",
     "text": [
      "20\n"
     ]
    }
   ],
   "source": [
    "x=10\n",
    "x*=2  #x=x*2\n",
    "print(x)"
   ]
  },
  {
   "cell_type": "code",
   "execution_count": 187,
   "id": "74d42045-79a1-477f-8129-32a8e51d39a1",
   "metadata": {},
   "outputs": [
    {
     "name": "stdout",
     "output_type": "stream",
     "text": [
      "5.0\n"
     ]
    }
   ],
   "source": [
    "x=10\n",
    "x/=2  #x=x/2\n",
    "print(x)"
   ]
  },
  {
   "cell_type": "code",
   "execution_count": 189,
   "id": "f8e65b52-613a-457c-8634-8152bc5a9256",
   "metadata": {},
   "outputs": [
    {
     "name": "stdout",
     "output_type": "stream",
     "text": [
      "0\n"
     ]
    }
   ],
   "source": [
    "x=10\n",
    "x%=2  #x=x%2\n",
    "print(x)"
   ]
  },
  {
   "cell_type": "code",
   "execution_count": 191,
   "id": "a0e07cf8-7ff3-4ee3-9406-8709091528c0",
   "metadata": {},
   "outputs": [
    {
     "name": "stdout",
     "output_type": "stream",
     "text": [
      "5\n"
     ]
    }
   ],
   "source": [
    "x=10\n",
    "x//=2  #x=x//2 : bhagakar in int\n",
    "print(x)"
   ]
  },
  {
   "cell_type": "code",
   "execution_count": 197,
   "id": "4e93c471-63ce-4037-84fb-281bcce1497d",
   "metadata": {},
   "outputs": [
    {
     "name": "stdout",
     "output_type": "stream",
     "text": [
      "100\n",
      "16\n"
     ]
    }
   ],
   "source": [
    "x=10\n",
    "x**=2  #x=x**2  : 10 cha square 100\n",
    "print(x)\n",
    "\n",
    "y=4\n",
    "y**=2 #4 cha square 16\n",
    "print(y)"
   ]
  }
 ],
 "metadata": {
  "kernelspec": {
   "display_name": "Python 3 (ipykernel)",
   "language": "python",
   "name": "python3"
  },
  "language_info": {
   "codemirror_mode": {
    "name": "ipython",
    "version": 3
   },
   "file_extension": ".py",
   "mimetype": "text/x-python",
   "name": "python",
   "nbconvert_exporter": "python",
   "pygments_lexer": "ipython3",
   "version": "3.12.4"
  }
 },
 "nbformat": 4,
 "nbformat_minor": 5
}
