{
 "cells": [
  {
   "cell_type": "markdown",
   "id": "ef12da10-827e-48d0-8e99-fb01caee138a",
   "metadata": {},
   "source": [
    "# Lambda Function : to do small task\n",
    "1. this function is anonymous (without name) & without using keyword 'def'\n",
    "2. can take any number of Arguments but can only have one Expression.\n",
    "3. functionalities are stored in a variable, when variable is printed the output of the function is displayed\n",
    "4. when we have to do small task we use lambda function\n",
    "5. Lambda keyword is used instead of \"def\" keyword\n",
    "6. we have to write this code in one line\n",
    "7. in python \"for loop incrementation happen automatically\"\n",
    "\n",
    "# Uses of Lambda Function :\n",
    "* when we need simple function for a short operation.\n",
    "* they often used in \"high ordered functions\" like : map(), filter(), sorted().\n",
    "* Functional programming: where function passed as arguments & return from other functions.\n",
    "* when you need simple one time use function without the overhead of full function defination.\n"
   ]
  },
  {
   "cell_type": "code",
   "execution_count": null,
   "id": "3988a9b2-9040-4133-a98f-908e6f49f450",
   "metadata": {},
   "outputs": [],
   "source": []
  },
  {
   "cell_type": "markdown",
   "id": "ba626984-ebfb-4dee-8d2d-c5302c94e1f2",
   "metadata": {},
   "source": [
    "### Normal function :"
   ]
  },
  {
   "cell_type": "code",
   "execution_count": 50,
   "id": "a9e23ede-b7b6-49a7-88ba-93dc53e1ba78",
   "metadata": {},
   "outputs": [
    {
     "data": {
      "text/plain": [
       "10"
      ]
     },
     "execution_count": 50,
     "metadata": {},
     "output_type": "execute_result"
    }
   ],
   "source": [
    "#addition of two number using normal def function\n",
    "def add(a,b):\n",
    "    return a+b\n",
    "add(5,5)"
   ]
  },
  {
   "cell_type": "markdown",
   "id": "f25325ba-5c9e-4343-8fb7-ba406648ec63",
   "metadata": {},
   "source": [
    "### Lambda function:"
   ]
  },
  {
   "cell_type": "code",
   "execution_count": 57,
   "id": "7073671a-0f4d-466d-a34f-af5aa2527017",
   "metadata": {},
   "outputs": [
    {
     "name": "stdout",
     "output_type": "stream",
     "text": [
      "10\n"
     ]
    }
   ],
   "source": [
    "add  = lambda a,b : a + b     #variable = lambda Parameters : Expression\n",
    "print(add(5,5))"
   ]
  },
  {
   "cell_type": "code",
   "execution_count": 90,
   "id": "9d078fe7-2bc2-4524-a445-dbcc93d025a5",
   "metadata": {},
   "outputs": [],
   "source": [
    "sb = lambda a,b : a-b"
   ]
  },
  {
   "cell_type": "code",
   "execution_count": 92,
   "id": "4223a4d1-2ed8-42e0-99c6-e6bb341f5783",
   "metadata": {},
   "outputs": [
    {
     "data": {
      "text/plain": [
       "14"
      ]
     },
     "execution_count": 92,
     "metadata": {},
     "output_type": "execute_result"
    }
   ],
   "source": [
    "sb(90,76)"
   ]
  },
  {
   "cell_type": "code",
   "execution_count": 2,
   "id": "5e4f48cb-82bf-4705-abf6-44521167f55c",
   "metadata": {},
   "outputs": [
    {
     "name": "stdout",
     "output_type": "stream",
     "text": [
      "8\n"
     ]
    }
   ],
   "source": [
    "add = lambda x, y: x+y  #variable = lambda Parameters : Expression\n",
    "print(add(3,5))  #print(variable(arg))\n"
   ]
  },
  {
   "cell_type": "code",
   "execution_count": 60,
   "id": "3478dda7-3ff5-40e6-a827-a457833cb7f7",
   "metadata": {},
   "outputs": [
    {
     "name": "stdout",
     "output_type": "stream",
     "text": [
      "59\n"
     ]
    }
   ],
   "source": [
    "add = lambda x, y = 15, z = 24 : x+y+z  #value declared in lambda \n",
    "print(add(20))"
   ]
  },
  {
   "cell_type": "code",
   "execution_count": 64,
   "id": "fdfe69b1-ee8a-47b6-906d-b127f153cb69",
   "metadata": {},
   "outputs": [
    {
     "name": "stdout",
     "output_type": "stream",
     "text": [
      "112\n"
     ]
    }
   ],
   "source": [
    "addition = lambda *args : sum(args) \n",
    "#*args: we can pass multiple number of arguments, sum() inbuilt funtion\n",
    "print(addition(20,2,40,50))"
   ]
  },
  {
   "cell_type": "markdown",
   "id": "0ba17d2e-330f-483b-a02a-8f566982df5f",
   "metadata": {},
   "source": [
    "**Higher-Order Functions:**\n",
    "* They are often used as arguments to higher-order functions like map(), filter(), and sorted()."
   ]
  },
  {
   "cell_type": "code",
   "execution_count": 66,
   "id": "f6824d5d-7e1c-478b-87b2-8eeec6c477d9",
   "metadata": {},
   "outputs": [
    {
     "data": {
      "text/plain": [
       "420"
      ]
     },
     "execution_count": 66,
     "metadata": {},
     "output_type": "execute_result"
    }
   ],
   "source": [
    "#higher order function\n",
    "higher_ord_fun = lambda x, fun: x + fun(x)\n",
    "higher_ord_fun(20, lambda x : x*x)\n"
   ]
  },
  {
   "cell_type": "code",
   "execution_count": 5,
   "id": "f6907077-1609-4ed7-953f-52372d87734b",
   "metadata": {},
   "outputs": [
    {
     "data": {
      "text/plain": [
       "2.5"
      ]
     },
     "execution_count": 5,
     "metadata": {},
     "output_type": "execute_result"
    }
   ],
   "source": [
    "#by NISHAD : mean of 6 numbers (0,1,2,3,4,5)/6 --> 17/6 --> 2.5\n",
    "a =lambda *args : sum(args)/len(args)\n",
    "b =  lambda  : [i for i in range(6) ]\n",
    "a(*b())"
   ]
  },
  {
   "cell_type": "code",
   "execution_count": null,
   "id": "3d3705b7-5b0b-4f2a-bf3e-3b1201254adc",
   "metadata": {},
   "outputs": [],
   "source": []
  },
  {
   "cell_type": "code",
   "execution_count": null,
   "id": "dd3bb38a-11b8-4353-9225-04f85db0423e",
   "metadata": {},
   "outputs": [],
   "source": []
  },
  {
   "cell_type": "code",
   "execution_count": 8,
   "id": "12348ebc-8ee3-4645-868e-6e581b55ca46",
   "metadata": {},
   "outputs": [
    {
     "data": {
      "text/plain": [
       "250"
      ]
     },
     "execution_count": 8,
     "metadata": {},
     "output_type": "execute_result"
    }
   ],
   "source": [
    "(lambda x : (x%2 and 'odd' or 'even') )\n",
    "(250)"
   ]
  },
  {
   "cell_type": "markdown",
   "id": "0b626288-2c99-4d12-8acf-0b8ccc79c3ed",
   "metadata": {},
   "source": [
    "**AND**\n",
    "* Purpose: The and operator returns True if both operands (expressions) are True. \n",
    "If either operand is False, the and operator returns False.\n",
    "* example :\n",
    "if age > 18 and has_license:\n",
    "    print(\"You can drive.\")\n",
    "  \n",
    "**OR**\n",
    "* Purpose: The or operator returns True if at least one of the operands (expressions) is True. If both operands are False, the or operator returns False.\n",
    "* example :\n",
    "if age > 18 or has_permission:\n",
    "    print(\"You can enter.\")\n"
   ]
  },
  {
   "cell_type": "code",
   "execution_count": 79,
   "id": "6facd625-d6c2-45ca-bf21-e0de7d49860f",
   "metadata": {},
   "outputs": [
    {
     "name": "stdout",
     "output_type": "stream",
     "text": [
      "True\n"
     ]
    }
   ],
   "source": [
    "sub_string = lambda string : string in \"welcome python\"\n",
    "print(sub_string('python'))\n",
    "\n",
    "#(sub_string('python') he \"Lambda string\" madhe pass honar then \"string in \" \" madhe check karnar & then return true or false to sub_string\n"
   ]
  },
  {
   "cell_type": "code",
   "execution_count": 88,
   "id": "969b3cc1-0cca-4033-8530-f384bcea213a",
   "metadata": {},
   "outputs": [
    {
     "name": "stdout",
     "output_type": "stream",
     "text": [
      "[56, 33, 55]\n"
     ]
    }
   ],
   "source": [
    "#greater number from list : >30\n",
    "num = [10,56,33,29,55]\n",
    "greater = list(filter(lambda num : num > 30, num))\n",
    "print(greater)\n",
    "\n",
    "# filter function is used to filter elements from the list num based on a condition. \n",
    "# The filter function, combined with a lambda function, \n",
    "# helps to create a new list containing only the elements that meet the specified condition.\n",
    "#The filter function takes this lambda function and applies it to each element of the list num."
   ]
  },
  {
   "cell_type": "code",
   "execution_count": null,
   "id": "dabc9c48-9c64-48ec-9301-1f8a07ad202f",
   "metadata": {},
   "outputs": [],
   "source": [
    "list1"
   ]
  },
  {
   "cell_type": "code",
   "execution_count": null,
   "id": "a232756a-6276-4ba3-8719-b12e281b340e",
   "metadata": {},
   "outputs": [],
   "source": []
  },
  {
   "cell_type": "code",
   "execution_count": null,
   "id": "30fea17b-0ce3-45a7-abe3-43f6fa22d061",
   "metadata": {},
   "outputs": [],
   "source": []
  },
  {
   "cell_type": "code",
   "execution_count": null,
   "id": "8e86d9a7-1802-41bb-95cf-518f7682b2f8",
   "metadata": {},
   "outputs": [],
   "source": []
  },
  {
   "cell_type": "code",
   "execution_count": 10,
   "id": "76a94ee6-bf42-40a2-8456-bd4ad5a081ae",
   "metadata": {},
   "outputs": [
    {
     "name": "stdout",
     "output_type": "stream",
     "text": [
      "6\n"
     ]
    }
   ],
   "source": [
    "#Questions:\n",
    "#pass 2 value and check which one is greatest\n",
    "Greatest = lambda x, y: x if x>y else y \n",
    "\n",
    "print(Greatest(5,6))"
   ]
  },
  {
   "cell_type": "code",
   "execution_count": 12,
   "id": "4a7b1594-09ed-4bc0-8354-ecfbb58ee8d3",
   "metadata": {},
   "outputs": [
    {
     "name": "stdout",
     "output_type": "stream",
     "text": [
      "True\n"
     ]
    }
   ],
   "source": [
    "#check if a number is even or not\n",
    "even = lambda x:x%2==0\n",
    "print(even(4))"
   ]
  },
  {
   "cell_type": "code",
   "execution_count": 16,
   "id": "bece49f9-309c-45d0-9bde-649c66d922de",
   "metadata": {},
   "outputs": [
    {
     "name": "stdout",
     "output_type": "stream",
     "text": [
      "[2, 2, 3]\n"
     ]
    }
   ],
   "source": [
    "#filter out the negative numbers from a list\n",
    "negative = lambda list1: [x for x in list1 if x>=0]\n",
    "#[-1,2,-4,2,3] this list is passing in list1..... calling 'negative' variable is stored result of this lambda function & list1 is passing in expression\n",
    "print(negative([-1,2,-4,2,3]))"
   ]
  },
  {
   "cell_type": "code",
   "execution_count": null,
   "id": "64e9523f-edb5-470d-bd4e-0f7391ef4ec2",
   "metadata": {},
   "outputs": [],
   "source": []
  },
  {
   "cell_type": "code",
   "execution_count": null,
   "id": "65a35484-b427-4249-b9ce-9b326b21494f",
   "metadata": {},
   "outputs": [],
   "source": []
  },
  {
   "cell_type": "code",
   "execution_count": null,
   "id": "ffa061d4-9afc-4642-a266-a999f8ea6371",
   "metadata": {},
   "outputs": [],
   "source": []
  },
  {
   "cell_type": "code",
   "execution_count": null,
   "id": "c95a7768-af2b-4852-bcdb-34205e78f39f",
   "metadata": {},
   "outputs": [],
   "source": []
  },
  {
   "cell_type": "markdown",
   "id": "9fedb152-2da2-47e5-8023-bd83e1063b54",
   "metadata": {},
   "source": [
    "# Practice : \n",
    "## Logical Questions"
   ]
  },
  {
   "cell_type": "code",
   "execution_count": 18,
   "id": "3182aa54-23d4-480d-be41-581c2a742e03",
   "metadata": {},
   "outputs": [
    {
     "name": "stdout",
     "output_type": "stream",
     "text": [
      "[1, 2, 3, 4, 5, 6, 7]\n"
     ]
    }
   ],
   "source": [
    "#Q. take a input of list having duplicate values and remove those duplicates and return a list with unique values\n",
    "list1 = [1,2,2,3,4,5,5,6,7]\n",
    "print(list(set(list1)))"
   ]
  },
  {
   "cell_type": "code",
   "execution_count": 24,
   "id": "d908504c-c1fa-4ddc-a01b-4fa449606a42",
   "metadata": {},
   "outputs": [
    {
     "name": "stdin",
     "output_type": "stream",
     "text": [
      "enter a number 5\n",
      "enter a number for list element 2\n",
      "enter a number for list element 3\n",
      "enter a number for list element 4\n",
      "enter a number for list element 5\n",
      "enter a number for list element 3\n"
     ]
    },
    {
     "name": "stdout",
     "output_type": "stream",
     "text": [
      "[2, 3, 4, 5, 3]\n",
      "[2, 3, 4, 5]\n"
     ]
    }
   ],
   "source": [
    "num = int(input(\"enter a number\"))\n",
    "list1 = []\n",
    "for i in range(num):\n",
    "    input_new = int(input(\"enter a number for list element\"))\n",
    "    list1.append(input_new)\n",
    "print(list1)\n",
    "\n",
    "print(list(set(list1)))\n"
   ]
  },
  {
   "cell_type": "code",
   "execution_count": 28,
   "id": "30640ef0-aaf7-4ffa-acc7-0f6642935144",
   "metadata": {},
   "outputs": [
    {
     "name": "stdin",
     "output_type": "stream",
     "text": [
      "Enter a number to calculate its fact!:  4\n"
     ]
    },
    {
     "name": "stdout",
     "output_type": "stream",
     "text": [
      "The factorial of 4 is 24\n"
     ]
    }
   ],
   "source": [
    "#Q. factorial=5! = 5*4*3*2*1 WAP in which u take user input and calculate fact!\n",
    "\n",
    "def factorial(n):\n",
    "    if n == 0 or n == 1:\n",
    "        return 1\n",
    "    else:\n",
    "        return n * factorial(n - 1)\n",
    "number = int(input(\"Enter a number to calculate its fact!: \"))\n",
    "result = factorial(number)\n",
    "print(f\"The factorial of {number} is {result}\")"
   ]
  },
  {
   "cell_type": "code",
   "execution_count": 30,
   "id": "434a5256-fd1f-40e6-ac8c-b395f9e31095",
   "metadata": {},
   "outputs": [
    {
     "name": "stdin",
     "output_type": "stream",
     "text": [
      "Enter a palindrome string:  nitin\n"
     ]
    },
    {
     "name": "stdout",
     "output_type": "stream",
     "text": [
      "'nitin' is a palindrome.\n"
     ]
    }
   ],
   "source": [
    "#Q. check if a string is palindrome or not\n",
    "\n",
    "def string_palindrome(s):\n",
    "    return s == s[::-1]\n",
    "\n",
    "string = input(\"Enter a palindrome string: \")\n",
    "\n",
    "if string_palindrome(string):\n",
    "    print(f\"'{string}' is a palindrome.\")\n",
    "else:\n",
    "    print(f\"'{string}' is not a palindrome.\")\n",
    "\n"
   ]
  },
  {
   "cell_type": "code",
   "execution_count": 32,
   "id": "137ba141-c40f-42ed-af89-d943d73b1ffc",
   "metadata": {},
   "outputs": [
    {
     "name": "stdout",
     "output_type": "stream",
     "text": [
      "sdfds\n",
      "palindrome\n"
     ]
    }
   ],
   "source": [
    "str='sdfds' \n",
    "s = str[::-1]\n",
    "print(s)\n",
    "if str == s:\n",
    "    print(\"palindrome\")\n",
    "else: \n",
    "    print(\"not palin\")\n",
    "    "
   ]
  },
  {
   "cell_type": "code",
   "execution_count": null,
   "id": "d9ac8bd0-841f-4ff7-a09d-fab02c6c2a1c",
   "metadata": {},
   "outputs": [],
   "source": [
    "#Q. take list and count the number of even and odd element in list"
   ]
  },
  {
   "cell_type": "code",
   "execution_count": 34,
   "id": "33977b85-4382-48a3-a077-2f7a1fe4764f",
   "metadata": {},
   "outputs": [
    {
     "ename": "TypeError",
     "evalue": "'str' object is not callable",
     "output_type": "error",
     "traceback": [
      "\u001b[1;31m---------------------------------------------------------------------------\u001b[0m",
      "\u001b[1;31mTypeError\u001b[0m                                 Traceback (most recent call last)",
      "Cell \u001b[1;32mIn[34], line 10\u001b[0m\n\u001b[0;32m      8\u001b[0m     \u001b[38;5;28;01mreturn\u001b[39;00m sum_pow \u001b[38;5;241m==\u001b[39m num\n\u001b[0;32m      9\u001b[0m num \u001b[38;5;241m=\u001b[39m \u001b[38;5;241m153\u001b[39m\n\u001b[1;32m---> 10\u001b[0m \u001b[38;5;28mprint\u001b[39m(armstrg(num))\n",
      "Cell \u001b[1;32mIn[34], line 5\u001b[0m, in \u001b[0;36marmstrg\u001b[1;34m(num)\u001b[0m\n\u001b[0;32m      4\u001b[0m \u001b[38;5;28;01mdef\u001b[39;00m \u001b[38;5;21marmstrg\u001b[39m(num):\n\u001b[1;32m----> 5\u001b[0m     nstr \u001b[38;5;241m=\u001b[39m \u001b[38;5;28mstr\u001b[39m(num) \u001b[38;5;66;03m#\"153\"\u001b[39;00m\n\u001b[0;32m      6\u001b[0m     ndigits \u001b[38;5;241m=\u001b[39m \u001b[38;5;28mlen\u001b[39m(nstr) \u001b[38;5;66;03m#3\u001b[39;00m\n\u001b[0;32m      7\u001b[0m     sum_pow \u001b[38;5;241m=\u001b[39m \u001b[38;5;28msum\u001b[39m(\u001b[38;5;28mint\u001b[39m(poonam) \u001b[38;5;241m*\u001b[39m\u001b[38;5;241m*\u001b[39m ndigits \u001b[38;5;28;01mfor\u001b[39;00m poonam \u001b[38;5;129;01min\u001b[39;00m nstr)\n",
      "\u001b[1;31mTypeError\u001b[0m: 'str' object is not callable"
     ]
    }
   ],
   "source": [
    "\n",
    "#Q. create a function  and take a integer as input and check if it is an armstrong number or not  \n",
    "# 153 = 1^3 + 5^3 + 3^3 = 153\n",
    "\n",
    "def armstrg(num):\n",
    "    nstr = str(num) #\"153\"\n",
    "    ndigits = len(nstr) #3\n",
    "    sum_pow = sum(int(poonam) ** ndigits for poonam in nstr)\n",
    "    return sum_pow == num\n",
    "num = 153\n",
    "print(armstrg(num))"
   ]
  }
 ],
 "metadata": {
  "kernelspec": {
   "display_name": "Python 3 (ipykernel)",
   "language": "python",
   "name": "python3"
  },
  "language_info": {
   "codemirror_mode": {
    "name": "ipython",
    "version": 3
   },
   "file_extension": ".py",
   "mimetype": "text/x-python",
   "name": "python",
   "nbconvert_exporter": "python",
   "pygments_lexer": "ipython3",
   "version": "3.12.4"
  }
 },
 "nbformat": 4,
 "nbformat_minor": 5
}
